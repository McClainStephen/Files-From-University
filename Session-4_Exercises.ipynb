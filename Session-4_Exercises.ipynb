{
 "cells": [
  {
   "cell_type": "markdown",
   "metadata": {},
   "source": [
    "## BMIS-2542: Data Programming Essentials with Python \n",
    "##### Katz Graduate School of Business, Spring 2021\n",
    "\n",
    "\n",
    "### Session-4:Exercise.\n"
   ]
  },
  {
   "cell_type": "code",
   "execution_count": null,
   "metadata": {},
   "outputs": [],
   "source": [
    "import pandas as pd"
   ]
  },
  {
   "cell_type": "markdown",
   "metadata": {},
   "source": [
    "You are given 3 Data Frames that hold information about investors (`dfInvestors`), securities (`dfSecurities`) and investor-holdings (`dfHoldings`).\n",
    "Use `pd.merge` to answer the following questions:\n",
    "1. How many shares of S1 does Anne hold?\n",
    "2. How many shares of Yahoo does John hold?"
   ]
  },
  {
   "cell_type": "code",
   "execution_count": null,
   "metadata": {},
   "outputs": [],
   "source": [
    "dfInvestors = pd.DataFrame({'INo':['I1', 'I2', 'I3'],'IName':['Anne', 'John', 'Elizabeth'],'PhoneNo':['412-456-4567', '585-673-4572', '763-567-8953']})\n",
    "dfSecurities =  pd.DataFrame({'SNo':['S1', 'S2', 'S3', 'S4', 'S5', 'S6'], 'SName':['Microsoft', 'Kodak', 'IBM','Xerox', 'Amazon', 'Yahoo'], 'Price':[78, 45, 68, 123, 34,78]})\n",
    "dfHoldings = pd.DataFrame({'INo':['I1','I1','I1','I1','I2','I2','I3','I3','I3'],'SNo':['S1','S2','S3','S4','S2','S6','S1','S3','S4'],'Qty':[500, 2000, 90,200,917,324,1000,346,780]})"
   ]
  },
  {
   "cell_type": "code",
   "execution_count": null,
   "metadata": {},
   "outputs": [],
   "source": [
    "dfInvestors # Investor Information"
   ]
  },
  {
   "cell_type": "code",
   "execution_count": null,
   "metadata": {},
   "outputs": [],
   "source": [
    "dfSecurities # Security Information"
   ]
  },
  {
   "cell_type": "code",
   "execution_count": null,
   "metadata": {},
   "outputs": [],
   "source": [
    "dfHoldings # Investor Holdings : How many stocks each investor holds"
   ]
  },
  {
   "cell_type": "code",
   "execution_count": null,
   "metadata": {},
   "outputs": [],
   "source": [
    "# Part 1"
   ]
  },
  {
   "cell_type": "code",
   "execution_count": null,
   "metadata": {},
   "outputs": [],
   "source": [
    "# Part 2"
   ]
  }
 ],
 "metadata": {
  "kernelspec": {
   "display_name": "Python 3",
   "language": "python",
   "name": "python3"
  },
  "language_info": {
   "codemirror_mode": {
    "name": "ipython",
    "version": 3
   },
   "file_extension": ".py",
   "mimetype": "text/x-python",
   "name": "python",
   "nbconvert_exporter": "python",
   "pygments_lexer": "ipython3",
   "version": "3.8.5"
  }
 },
 "nbformat": 4,
 "nbformat_minor": 4
}
