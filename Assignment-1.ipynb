{
 "cells": [
  {
   "cell_type": "markdown",
   "metadata": {},
   "source": [
    "## BMIS-2542: Data Programming Essentials with Python\n",
    "##### Katz Graduate School of Business, Spring 2021\n",
    "\n",
    "## Assignment 1\n",
    "#### <font color='brown'> Write Python code to answer all questions. Attach your solution notebook in your Assignment 1 submission.</font>"
   ]
  },
  {
   "cell_type": "markdown",
   "metadata": {},
   "source": [
    "**Q1. Sales Prediction**<br>\n",
    "A company has determined that is annual profit is typically 23 percent of total sales. Write a program that asks the user to enter the projected amount of total sales, then displays the profit that will be made from that amount."
   ]
  },
  {
   "cell_type": "code",
   "execution_count": 46,
   "metadata": {},
   "outputs": [
    {
     "name": "stdout",
     "output_type": "stream",
     "text": [
      "What is percentage of total sales is annual profit? 23\n",
      "The percentage of total sales from annual profit is 23.0 %\n"
     ]
    }
   ],
   "source": [
    "sale_percent = float(input('What is percentage of total sales is annual profit? '))\n",
    "print('The percentage of total sales from annual profit is ' + str(sale_percent),'%')"
   ]
  },
  {
   "cell_type": "markdown",
   "metadata": {},
   "source": [
    "**Q2. Distance Traveled**<br>\n",
    "Assuming there are no accidents or delays, the distance that a car travels down the interstate can be calculated with the following formula: $$Distance = Speed\\times Time$$\n",
    "\n",
    "A car is travelling at 70 miles per hour.<br>\n",
    "Write a program that displays the the distance the car will travel in 10 hours."
   ]
  },
  {
   "cell_type": "code",
   "execution_count": 19,
   "metadata": {},
   "outputs": [
    {
     "name": "stdout",
     "output_type": "stream",
     "text": [
      "Please input the speed at which the car is traveling.70\n",
      "Please input how long the car travelled for (time in hours)10\n",
      "The total distance travelled is 700.0 miles.\n"
     ]
    }
   ],
   "source": [
    "speed = float(input(\"Please input the speed at which the car is traveling.\"))\n",
    "time = float(input(\"Please input how long the car travelled for (time in hours)\"))\n",
    "distance = speed * time\n",
    "print('The total distance travelled is ' + str(distance), 'miles.')"
   ]
  },
  {
   "cell_type": "markdown",
   "metadata": {},
   "source": [
    "**Q3. Ingredient Adjuster**<br>\n",
    "A cookie recipie calls for the following ingredients.\n",
    "- 1.5 cups sugar\n",
    "- 1 cup butter\n",
    "- 2.75 cups of flour\n",
    "\n",
    "The recipie produces 48 cookies with this amount of ingredients.<br>\n",
    "Write a program that asks the user how many cookies he or she wants to make, then displays the number of cups of each ingredient needed for the specified number of cookies."
   ]
  },
  {
   "cell_type": "code",
   "execution_count": 43,
   "metadata": {},
   "outputs": [
    {
     "name": "stdout",
     "output_type": "stream",
     "text": [
      "How many cookies would you like to make? 96\n",
      "You will need:\n",
      "3.0 cups of Sugar\n",
      "2.0 cups of Butter\n",
      "5.5 cups of Flour\n"
     ]
    }
   ],
   "source": [
    "cookies = float(input('How many cookies would you like to make? '))\n",
    "\n",
    "sugar = 1.5\n",
    "butter = 1\n",
    "flour = 2.75\n",
    "\n",
    "serving_size = 48\n",
    "\n",
    "total_sugar = (sugar * cookies)/serving_size\n",
    "total_butter = (butter * cookies)/serving_size\n",
    "total_flour = (flour * cookies)/serving_size\n",
    "\n",
    "\n",
    "print(\"You will need:\\n\" +str(total_sugar), \"cups of Sugar\" \n",
    "      \"\\n\" +str(total_butter), \"cups of Butter\" \n",
    "      \"\\n\" +str(total_flour), \"cups of Flour\")\n"
   ]
  },
  {
   "cell_type": "markdown",
   "metadata": {},
   "source": [
    "**Q4.Stock Transaction Program** <br>\n",
    "Last month, Joe purchased some stock in Acme Software, Inc. Here are the details of the purchase.\n",
    " - The number of shares that Joe purchased was 2,000\n",
    " - When Joe purchased the stock, he paid $40.00 per share.\n",
    " - Joe paid his stockbroker a commission that amounted to 3 percent of the amount he paid for the stock\n",
    "\n",
    "Two weeks later, Joe sold the stock. Here are the details of the sale:\n",
    "- The number of shares that Joe sold was 2,000\n",
    "- He sold the stock for $42.75 per share\n",
    "- He paid his stockbroker another commisson that amonted to 3 percent of the amount he recived for the stock.\n",
    "\n",
    "Write a program that displays the following information:\n",
    "1. The amount of money Joe paid for the stock\n",
    "2. The amount of commission Joe paid his broker when he bought the stock\n",
    "3. The amount for which Joe sold the stock\n",
    "4. The amount of commission Joe paid his broker when he sold the stock\n",
    "5. Display the amount of money that Joe had left when he sold the stock and paid his broker (both times). If this amount is positive, then Joe made a profit. If the amount is negative, then Joe lost money. "
   ]
  },
  {
   "cell_type": "code",
   "execution_count": 62,
   "metadata": {},
   "outputs": [
    {
     "name": "stdout",
     "output_type": "stream",
     "text": [
      "Joe paid $ 80000.0 for the 2000 stocks he bought\n",
      "Joe paid $ 2400.0 to his stockbroker for the 2000 stocks he bought\n",
      "Joe sold the stock for $ 85500.0\n",
      "Joe paid $ 2565.0 to his stockbroker for commision\n",
      "Joe made a profit of $ 535.0\n"
     ]
    }
   ],
   "source": [
    "#ns = number of stocks\n",
    "#psp = price of stock paid\n",
    "#sc = stockbroker commission\n",
    "#ss = amount of stock sold\n",
    "#psf = price stock sold for\n",
    "\n",
    "ns = 2000\n",
    "psp = 40.00\n",
    "sc = 0.03\n",
    "\n",
    "ss = 2000\n",
    "psf = 42.75\n",
    "\n",
    "money = (ss*psf)-(ns*psp)-((ns*psp)*sc)-((ss*psf)*sc)\n",
    "\n",
    "print(\"Joe paid $\", ns*psp, \"for the\", ns, \"stocks he bought\")\n",
    "print(\"Joe paid $\", (ns*psp)*sc, \"to his stockbroker for the\", ns, \"stocks he bought\")\n",
    "print(\"Joe sold the stock for $\", ss*psf)\n",
    "print(\"Joe paid $\", (ss*psf)*sc,\"to his stockbroker for commision\")\n",
    "print(\"Joe made a profit of $\", money)\n",
    "\n"
   ]
  },
  {
   "cell_type": "markdown",
   "metadata": {},
   "source": [
    "**Q5. Celsius to Fahrenheit Temperature Converter** <br>\n",
    "Write a program that that convers Celsius temperatures to Fahrenheit temperatures. The formula is as follows:$$F = \\frac{9}{5}C + 32$$\n",
    "The program should ask the user to enter a temperature in Celsius, then display the temperature converted to Fahrenheit."
   ]
  },
  {
   "cell_type": "code",
   "execution_count": 44,
   "metadata": {},
   "outputs": [
    {
     "name": "stdout",
     "output_type": "stream",
     "text": [
      "Please input the temperature in Celsius.100\n",
      "The temperature in Fahrenheit is 212.0 .\n"
     ]
    }
   ],
   "source": [
    "c = float(input('Please input the temperature in Celsius.'))\n",
    "f = (9/5)*c+32\n",
    "print(\"The temperature in Fahrenheit is \" + str(f),'.')"
   ]
  },
  {
   "cell_type": "markdown",
   "metadata": {},
   "source": [
    "**Q6. Compound Interest**<br>\n",
    "When a bank account pays compound interest, it pays interest not only on the principal amount that was deposited to the account, but also on the interest that has accumilated over time. Suppose you want to deposit some money into a savings account, and the let the account earn compound interest  for a certain number of years. The formula for calculating the balance of the account after a specified number of years is:$$A = P\\left(1+\\frac{r}{n}\\right)^{nt}$$\n",
    "\n",
    "The terms in the formula are:\n",
    " - $A$ is the amount of money in the account after the specified number of years\n",
    " - $P$ is the principal amount that was originally deposited into the account\n",
    " - $r$ is the annual interest rate\n",
    " - $n$ is the number of times per year that the interest is compounded\n",
    " - $t$ is the specified number of years\n",
    " \n",
    " Write a program that makes the calculations for you. The program should ask the users to input the following:\n",
    " 1. The amount of principal originally deposited to the account\n",
    " 2. The annual interest rate paid by the account\n",
    " 3. The number of times per year that the interest is compounded (e.g., if monthly enter 12, if quarterly enter 4)\n",
    " 4. The number of years the account will be left to earn interest\n"
   ]
  },
  {
   "cell_type": "code",
   "execution_count": 78,
   "metadata": {},
   "outputs": [
    {
     "name": "stdout",
     "output_type": "stream",
     "text": [
      "What was the prinicipal amount originally deposited into the account? $4000\n",
      "What is the annual interest rate paid by the account %? 3\n",
      "How many times per year is the interest coompounded? (e.g. if monthly enter 12, if quarterly enter 4) 12\n",
      "How many years will the account be left to earn interest? 8\n",
      "In 8.0 years, you will have $ 5083.47386808723 in your acccount\n"
     ]
    }
   ],
   "source": [
    "P = float(input(\"What was the prinicipal amount originally deposited into the account? $\"))\n",
    "r = float(input(\"What is the annual interest rate paid by the account %? \"))/100\n",
    "n = float(input(\"How many times per year is the interest coompounded? (e.g. if monthly enter 12, if quarterly enter 4) \"))\n",
    "t = float(input(\"How many years will the account be left to earn interest? \"))\n",
    "A = P * ((1 + (r / n))**(n * t))\n",
    "print(\"In\", t, \"years, you will have $\", A, \"in your acccount\")"
   ]
  },
  {
   "cell_type": "code",
   "execution_count": null,
   "metadata": {},
   "outputs": [],
   "source": []
  }
 ],
 "metadata": {
  "kernelspec": {
   "display_name": "Python 3",
   "language": "python",
   "name": "python3"
  },
  "language_info": {
   "codemirror_mode": {
    "name": "ipython",
    "version": 3
   },
   "file_extension": ".py",
   "mimetype": "text/x-python",
   "name": "python",
   "nbconvert_exporter": "python",
   "pygments_lexer": "ipython3",
   "version": "3.8.5"
  }
 },
 "nbformat": 4,
 "nbformat_minor": 2
}
