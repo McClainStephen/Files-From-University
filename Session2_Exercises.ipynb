{
 "cells": [
  {
   "cell_type": "markdown",
   "metadata": {},
   "source": [
    "### BMIS-2542: Data Programming Essentials with Python \n",
    "##### Katz Graduate School of Business, Spring 2021\n",
    "\n",
    "\n",
    "## Session-2: Practice Exercises\n",
    "***"
   ]
  },
  {
   "cell_type": "markdown",
   "metadata": {},
   "source": [
    "## Control Flow"
   ]
  },
  {
   "cell_type": "markdown",
   "metadata": {},
   "source": [
    "### Try it out #1:\n",
    "Write Python code to check if the following conditions are met for a given integer entered by a user. Include print statements to indicate the outcome:\n",
    " - given integer is positive but less than 5\n",
    " - given integer is positive and greater than or equal to 5"
   ]
  },
  {
   "cell_type": "code",
   "execution_count": 23,
   "metadata": {},
   "outputs": [
    {
     "name": "stdout",
     "output_type": "stream",
     "text": [
      "Please enter an integer. 14\n",
      "14 is larger than 5\n"
     ]
    }
   ],
   "source": [
    "x = int(input(\"Please enter an integer. \"))\n",
    "\n",
    "if x < 5:\n",
    "    print(x, 'smaller than 5')\n",
    "elif x == 5:\n",
    "    print(x, 'is equal to 5')\n",
    "else:\n",
    "    print(x, 'is larger than 5')\n",
    "\n",
    "#Teacher's Example\n",
    "\n",
    "# x = int(input(\"Please enter an integer. \"))\n",
    "\n",
    "# if x > 0:\n",
    "#     if x < 5:\n",
    "#         print('integer is positive but less than 5')\n",
    "#     else:\n",
    "#         print('integer is positive and greater than or equal to 5')\n",
    "# else:\n",
    "#     print('integer is 0 or negative')"
   ]
  },
  {
   "cell_type": "markdown",
   "metadata": {},
   "source": [
    "### Try it out #2:\n",
    "Say the temperature of your coffee is now 115 degrees Fahrenheit. You want it at 100 degrees. <br>A chip of ice can lower the temperature by one degree each time. Before adding ice each time, you test and note the temperature of your coffee. You go on until the desired temperature is reached.<br><br>\n",
    "Use a `while` loop to reflect this test procedure.<br> How many ice chips you need?"
   ]
  },
  {
   "cell_type": "code",
   "execution_count": 1,
   "metadata": {},
   "outputs": [
    {
     "name": "stdout",
     "output_type": "stream",
     "text": [
      "You need 15 ice chips\n"
     ]
    }
   ],
   "source": [
    "x = 115\n",
    "y = 0\n",
    "\n",
    "while x > 100:\n",
    "    x = x - 1\n",
    "    y = y + 1\n",
    "    if x == 100:\n",
    "        break\n",
    "print(\"You need\", y,'ice chips')\n",
    "\n",
    "#teacher's example\n",
    "# temp = 115\n",
    "# chips = 0\n",
    "\n",
    "# while temp > 100:\n",
    "#     print('Current temperature of my coffee: ', temp)\n",
    "#     temp = temp - 1\n",
    "#     chips = chips + 1\n",
    "\n",
    "# print(\"Final temperature of my coffee: \", temp)\n",
    "# print(' I have used {0} ice chips!!' .format(chips))"
   ]
  },
  {
   "cell_type": "markdown",
   "metadata": {},
   "source": [
    "### Try it out #3:\n",
    "  (a) Use a `for` loop to print out all the numbers from 2-10, inclusive. <br>\n",
    "  (b) Use `break` and `continue` to modify your code to prevent `3` and `5`from printing, and to exit the loop after printing `7`.  "
   ]
  },
  {
   "cell_type": "code",
   "execution_count": 9,
   "metadata": {},
   "outputs": [
    {
     "name": "stdout",
     "output_type": "stream",
     "text": [
      "Iteration 2\n",
      "Iteration 4\n",
      "Iteration 6\n",
      "Iteration 7\n"
     ]
    }
   ],
   "source": [
    "for i in range(2,11):\n",
    "    if i == 3 or i == 5:\n",
    "        continue\n",
    "    if i == 8:\n",
    "        break\n",
    "    print(\"Iteration\", i)\n"
   ]
  },
  {
   "cell_type": "markdown",
   "metadata": {},
   "source": [
    "### Try it out #4:\n",
    "Write a function that takes a number as an argument (e.g., `devideBy`) and returns 100 devided by that number (100/devideBy).<br>\n",
    "Handle the possibility that `devideBy=0` as well."
   ]
  },
  {
   "cell_type": "code",
   "execution_count": 24,
   "metadata": {},
   "outputs": [
    {
     "name": "stdout",
     "output_type": "stream",
     "text": [
      "Please enter a number. 0\n",
      "You cannot divide by 0!\n"
     ]
    }
   ],
   "source": [
    "x = float(input(\"Please enter a number. \"))\n",
    "\n",
    "if x == 0:\n",
    "    print(\"You cannot divide by 0!\")\n",
    "    \n",
    "elif x != 0:\n",
    "    dividedBy = 100/x\n",
    "    print(dividedBy)\n",
    "    \n",
    "# def devide(num):\n",
    "#     if num == 0:\n",
    "#         return \"Cannot divide by 0!\"\n",
    "#     return 100/num"
   ]
  },
  {
   "cell_type": "markdown",
   "metadata": {},
   "source": [
    "## Data Structures: Lists and Dictionaries"
   ]
  },
  {
   "cell_type": "markdown",
   "metadata": {},
   "source": [
    "### Try it Out #5\n",
    "Say you have a list like this: `groceries = ['apples', 'milk', 'tofu', 'potatoes']` <br>\n",
    "Write a function that takes a list as an argument and returns a string with all the items separated by a comma and a space, with `and` inserted before the last item. For example, passing the list `groceries` to the function would return the string `'apples, milk, tofu, and potatoes'`."
   ]
  },
  {
   "cell_type": "code",
   "execution_count": null,
   "metadata": {},
   "outputs": [],
   "source": []
  },
  {
   "cell_type": "markdown",
   "metadata": {},
   "source": [
    "### Try it Out #6\n",
    "Use dict comprehensions to create a dictionary that holds the letters (lowercase) of the English alphabet in the format `{'a': 1,  'b': 2,  'c': 3,....,'z':26}`.<br>\n",
    "**Hint.** You can use `list(string.ascii_lowercase)` method to create a list of letters of the alphabet. Import the `string` module if you choose to do so. "
   ]
  },
  {
   "cell_type": "code",
   "execution_count": 29,
   "metadata": {},
   "outputs": [
    {
     "data": {
      "text/plain": [
       "{'a': 1,\n",
       " 'b': 2,\n",
       " 'c': 3,\n",
       " 'd': 4,\n",
       " 'e': 5,\n",
       " 'f': 6,\n",
       " 'g': 7,\n",
       " 'h': 8,\n",
       " 'i': 9,\n",
       " 'j': 10,\n",
       " 'k': 11,\n",
       " 'l': 12,\n",
       " 'm': 13,\n",
       " 'n': 14,\n",
       " 'o': 15,\n",
       " 'p': 16,\n",
       " 'q': 17,\n",
       " 'r': 18,\n",
       " 's': 19,\n",
       " 't': 20,\n",
       " 'u': 21,\n",
       " 'v': 22,\n",
       " 'w': 23,\n",
       " 'x': 24,\n",
       " 'y': 25,\n",
       " 'z': 26}"
      ]
     },
     "execution_count": 29,
     "metadata": {},
     "output_type": "execute_result"
    }
   ],
   "source": [
    "import string\n",
    "\n",
    "alphabet = list(string.ascii_lowercase)\n",
    "\n",
    "dict_alphabet = {val : index + 1 for index, val in enumerate(alphabet)}\n",
    "dict_alphabet"
   ]
  },
  {
   "cell_type": "code",
   "execution_count": null,
   "metadata": {},
   "outputs": [],
   "source": []
  }
 ],
 "metadata": {
  "kernelspec": {
   "display_name": "Python 3",
   "language": "python",
   "name": "python3"
  },
  "language_info": {
   "codemirror_mode": {
    "name": "ipython",
    "version": 3
   },
   "file_extension": ".py",
   "mimetype": "text/x-python",
   "name": "python",
   "nbconvert_exporter": "python",
   "pygments_lexer": "ipython3",
   "version": "3.8.5"
  }
 },
 "nbformat": 4,
 "nbformat_minor": 2
}
