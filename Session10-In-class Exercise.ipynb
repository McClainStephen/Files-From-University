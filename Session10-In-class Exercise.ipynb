{
 "cells": [
  {
   "cell_type": "markdown",
   "metadata": {},
   "source": [
    "## BMIS-2542: Data Programming Essentials with Python \n",
    "##### Katz Graduate School of Business, Spring 2021\n",
    "\n",
    "\n",
    "## Session-10: In-class Exercise"
   ]
  },
  {
   "cell_type": "markdown",
   "metadata": {},
   "source": [
    "#### Boston Housing Data:\n",
    "\n",
    "This exercise is based on the boston.csv data file available on Canvas.\n",
    "\n",
    "The Boston housing data set provides records of 13 attributes of housing markets around Boston, as well as the median price. **We want to predict the price of a market given a set of attributes**.\n",
    "\n",
    "Data Set Characteristics:  \n",
    "\n",
    "Number of Instances: 506 \n",
    "Number of Attributes: 13 numeric/categorical predictive\n",
    "Attribute Information (in order):\n",
    " * CRIM:     per capita crime rate by town\n",
    " * ZN:       proportion of residential land zoned for lots over 25,000 sq.ft.\n",
    " * INDUS:    proportion of non-retail business acres per town\n",
    " * CHAS:     Charles River dummy variable (= 1 if tract bounds river; 0 otherwise)\n",
    " * NOX:      nitric oxides concentration (parts per 10 million)\n",
    " * RM:       average number of rooms per dwelling\n",
    " * AGE:      proportion of owner-occupied units built prior to 1940\n",
    " * DIS:      weighted distances to five Boston employment centres\n",
    " * RAD:      index of accessibility to radial highways\n",
    " * TAX:      full-value property-tax rate per ten thousand dollars\n",
    " * PTRATIO:  pupil-teacher ratio by town\n",
    " * B:        1000(Bk - 0.63)^2 where Bk is the proportion of blacks by town\n",
    " * LSTAT:    % lower status of the population\n",
    " * MEDV:     Median value of owner-occupied homes in 1000's\n",
    " * Missing Attribute Values: None\n",
    "\n",
    "\n",
    "#### Questions: \n",
    " - Using visual plots, explore the relationship between `MEDV` and other predictors.\n",
    " - Develop a regression model to **predict** `MEDV`. \n",
    " - Print out the results including the fitted parameters and model peformance metrics."
   ]
  },
  {
   "cell_type": "code",
   "execution_count": null,
   "metadata": {},
   "outputs": [],
   "source": []
  }
 ],
 "metadata": {
  "kernelspec": {
   "display_name": "Python 3",
   "language": "python",
   "name": "python3"
  },
  "language_info": {
   "codemirror_mode": {
    "name": "ipython",
    "version": 3
   },
   "file_extension": ".py",
   "mimetype": "text/x-python",
   "name": "python",
   "nbconvert_exporter": "python",
   "pygments_lexer": "ipython3",
   "version": "3.8.5"
  }
 },
 "nbformat": 4,
 "nbformat_minor": 4
}
