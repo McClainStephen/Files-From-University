{
 "cells": [
  {
   "cell_type": "markdown",
   "metadata": {},
   "source": [
    "\n",
    "# BMIS-2542: Data Programming Essentials with Python \n",
    "##### Katz Graduate School of Business, Spring 2021\n",
    "\n",
    "## Session-10: Logistic Regression\n"
   ]
  },
  {
   "cell_type": "markdown",
   "metadata": {},
   "source": [
    "### Logistic Regression\n",
    "\n",
    "Logistic regression extends the ideas of linear regression to the situation where the outcome variable $Y$ is categorical. In this notebook, we focus on the use of logistic regression for classification, where a new record of which the class (i.e., outcome) is unknown can be classified into one of the classes, based on the values of its predictor variables. While binary outcomes such as success/failure, yes/no, buy/don't buy, survive/die, etc., are quite popular, logistic regression models can be extended to multi-class classification problems as well.\n",
    "\n",
    "In logistic regression, instead of using $Y$ directly as the outcome variable, a function of it, which is called the `logit`  is used . The `logit` can be modeled as a linear function of the predictors.\n",
    "\n",
    "If $p = P(Y=1)$, then we can define $$p = \\frac{1}{1+e^{-(\\beta_0 + \\beta_1x_1+\\beta_2x_2+....+ \\beta_qx_q)}}$$ <br>so that for any $x_1......x_q$, the right hand side will always lead to values in the interval $[0,1]$.\n",
    "\n",
    "Given $$Odds(Y=1) = \\frac{p}{1-p}$$ <br>the relationship between odds and the predectors would be <br>$$Odds(Y=1) = e^{\\beta_0 + \\beta_1x_1+\\beta_2x_2+....+ \\beta_qx_q}$$<br>\n",
    "\n",
    "By taking a natural logarithm of both sides, the standard formulation of a logistic model can be obtained:<br> $$log(odds) = \\beta_0 + \\beta_1x_1+\\beta_2x_2+....+ \\beta_qx_q$$\n",
    "\n",
    "<br>\n",
    "\n",
    "**Read more about [Logistic Regression](https://scikit-learn.org/stable/modules/linear_model.html#logistic-regression) on scikit-learn. Implementation details are [here](https://scikit-learn.org/stable/modules/generated/sklearn.linear_model.LogisticRegression.html).**"
   ]
  },
  {
   "cell_type": "markdown",
   "metadata": {},
   "source": [
    " ### Example: Acceptance of a Personal Loan\n",
    "In this example, we analyze `bank.csv`, that includes data related to the acceptance of a personal loan by a bank. The variable descriptions are given below. The goal is to build a model that identifies customers who are most likely to accept a loan offer in the future."
   ]
  },
  {
   "cell_type": "markdown",
   "metadata": {},
   "source": [
    "   - ID   \t\t - Customer ID\n",
    "   - Age   \t\t - Customer's age in completed years\n",
    "   - Experience   \t- #years of professional experience\n",
    "   - Income   \t\t - Annual income of the customer ('000)\n",
    "   - ZIPCode   \t\t - Home Address ZIP code.\n",
    "   - Family   \t\t - Family size of the customer\n",
    "   - CCAvg   \t\t  -Avg. spending on credit cards per month ('000)\n",
    "   - Education   \t \t - Education Level. 1: Undergrad; 2: Graduate; 3: Advanced/Professional\n",
    "   - Mortgage   \t \t - Value of house mortgage if any. ('000)\n",
    "   - **Personal Loan**   \t - Did this customer accept the personal loan offered in the last campaign?\n",
    "   - Securities Account   - Does the customer have a securities account with the bank?\n",
    "   - CD Account   \t - Does the customer have a certificate of deposit (CD) account with the bank?\n",
    "   - Online   \t\t - Does the customer use internet banking facilities?\n",
    "   - CreditCard   \t - Does the customer use a credit card issued by UniversalBank?"
   ]
  },
  {
   "cell_type": "code",
   "execution_count": 1,
   "metadata": {},
   "outputs": [],
   "source": [
    "import numpy as np\n",
    "import pandas as pd\n",
    "import seaborn as sns\n",
    "\n",
    "import matplotlib.pylab as plt\n",
    "%matplotlib inline \n",
    "\n",
    "from sklearn.linear_model import LogisticRegression, LogisticRegressionCV\n",
    "from sklearn.model_selection import train_test_split\n",
    "from sklearn.metrics import confusion_matrix, plot_confusion_matrix, plot_roc_curve, roc_auc_score, classification_report, precision_score, accuracy_score, recall_score, f1_score"
   ]
  },
  {
   "cell_type": "code",
   "execution_count": 2,
   "metadata": {},
   "outputs": [
    {
     "name": "stdout",
     "output_type": "stream",
     "text": [
      "<class 'pandas.core.frame.DataFrame'>\n",
      "RangeIndex: 5000 entries, 0 to 4999\n",
      "Data columns (total 14 columns):\n",
      " #   Column              Non-Null Count  Dtype  \n",
      "---  ------              --------------  -----  \n",
      " 0   ID                  5000 non-null   int64  \n",
      " 1   Age                 5000 non-null   int64  \n",
      " 2   Experience          5000 non-null   int64  \n",
      " 3   Income              5000 non-null   int64  \n",
      " 4   ZIP Code            5000 non-null   int64  \n",
      " 5   Family              5000 non-null   int64  \n",
      " 6   CCAvg               5000 non-null   float64\n",
      " 7   Education           5000 non-null   int64  \n",
      " 8   Mortgage            5000 non-null   int64  \n",
      " 9   Personal Loan       5000 non-null   int64  \n",
      " 10  Securities Account  5000 non-null   int64  \n",
      " 11  CD Account          5000 non-null   int64  \n",
      " 12  Online              5000 non-null   int64  \n",
      " 13  CreditCard          5000 non-null   int64  \n",
      "dtypes: float64(1), int64(13)\n",
      "memory usage: 547.0 KB\n"
     ]
    }
   ],
   "source": [
    "df_loans = pd.read_csv('bank.csv')\n",
    "df_loans.info()"
   ]
  },
  {
   "cell_type": "code",
   "execution_count": 3,
   "metadata": {},
   "outputs": [
    {
     "data": {
      "text/html": [
       "<div>\n",
       "<style scoped>\n",
       "    .dataframe tbody tr th:only-of-type {\n",
       "        vertical-align: middle;\n",
       "    }\n",
       "\n",
       "    .dataframe tbody tr th {\n",
       "        vertical-align: top;\n",
       "    }\n",
       "\n",
       "    .dataframe thead th {\n",
       "        text-align: right;\n",
       "    }\n",
       "</style>\n",
       "<table border=\"1\" class=\"dataframe\">\n",
       "  <thead>\n",
       "    <tr style=\"text-align: right;\">\n",
       "      <th></th>\n",
       "      <th>ID</th>\n",
       "      <th>Age</th>\n",
       "      <th>Experience</th>\n",
       "      <th>Income</th>\n",
       "      <th>ZIP Code</th>\n",
       "      <th>Family</th>\n",
       "      <th>CCAvg</th>\n",
       "      <th>Education</th>\n",
       "      <th>Mortgage</th>\n",
       "      <th>Personal Loan</th>\n",
       "      <th>Securities Account</th>\n",
       "      <th>CD Account</th>\n",
       "      <th>Online</th>\n",
       "      <th>CreditCard</th>\n",
       "    </tr>\n",
       "  </thead>\n",
       "  <tbody>\n",
       "    <tr>\n",
       "      <th>0</th>\n",
       "      <td>1</td>\n",
       "      <td>25</td>\n",
       "      <td>1</td>\n",
       "      <td>49</td>\n",
       "      <td>91107</td>\n",
       "      <td>4</td>\n",
       "      <td>1.6</td>\n",
       "      <td>1</td>\n",
       "      <td>0</td>\n",
       "      <td>0</td>\n",
       "      <td>1</td>\n",
       "      <td>0</td>\n",
       "      <td>0</td>\n",
       "      <td>0</td>\n",
       "    </tr>\n",
       "    <tr>\n",
       "      <th>1</th>\n",
       "      <td>2</td>\n",
       "      <td>45</td>\n",
       "      <td>19</td>\n",
       "      <td>34</td>\n",
       "      <td>90089</td>\n",
       "      <td>3</td>\n",
       "      <td>1.5</td>\n",
       "      <td>1</td>\n",
       "      <td>0</td>\n",
       "      <td>0</td>\n",
       "      <td>1</td>\n",
       "      <td>0</td>\n",
       "      <td>0</td>\n",
       "      <td>0</td>\n",
       "    </tr>\n",
       "    <tr>\n",
       "      <th>2</th>\n",
       "      <td>3</td>\n",
       "      <td>39</td>\n",
       "      <td>15</td>\n",
       "      <td>11</td>\n",
       "      <td>94720</td>\n",
       "      <td>1</td>\n",
       "      <td>1.0</td>\n",
       "      <td>1</td>\n",
       "      <td>0</td>\n",
       "      <td>0</td>\n",
       "      <td>0</td>\n",
       "      <td>0</td>\n",
       "      <td>0</td>\n",
       "      <td>0</td>\n",
       "    </tr>\n",
       "    <tr>\n",
       "      <th>3</th>\n",
       "      <td>4</td>\n",
       "      <td>35</td>\n",
       "      <td>9</td>\n",
       "      <td>100</td>\n",
       "      <td>94112</td>\n",
       "      <td>1</td>\n",
       "      <td>2.7</td>\n",
       "      <td>2</td>\n",
       "      <td>0</td>\n",
       "      <td>0</td>\n",
       "      <td>0</td>\n",
       "      <td>0</td>\n",
       "      <td>0</td>\n",
       "      <td>0</td>\n",
       "    </tr>\n",
       "    <tr>\n",
       "      <th>4</th>\n",
       "      <td>5</td>\n",
       "      <td>35</td>\n",
       "      <td>8</td>\n",
       "      <td>45</td>\n",
       "      <td>91330</td>\n",
       "      <td>4</td>\n",
       "      <td>1.0</td>\n",
       "      <td>2</td>\n",
       "      <td>0</td>\n",
       "      <td>0</td>\n",
       "      <td>0</td>\n",
       "      <td>0</td>\n",
       "      <td>0</td>\n",
       "      <td>1</td>\n",
       "    </tr>\n",
       "  </tbody>\n",
       "</table>\n",
       "</div>"
      ],
      "text/plain": [
       "   ID  Age  Experience  Income  ZIP Code  Family  CCAvg  Education  Mortgage  \\\n",
       "0   1   25           1      49     91107       4    1.6          1         0   \n",
       "1   2   45          19      34     90089       3    1.5          1         0   \n",
       "2   3   39          15      11     94720       1    1.0          1         0   \n",
       "3   4   35           9     100     94112       1    2.7          2         0   \n",
       "4   5   35           8      45     91330       4    1.0          2         0   \n",
       "\n",
       "   Personal Loan  Securities Account  CD Account  Online  CreditCard  \n",
       "0              0                   1           0       0           0  \n",
       "1              0                   1           0       0           0  \n",
       "2              0                   0           0       0           0  \n",
       "3              0                   0           0       0           0  \n",
       "4              0                   0           0       0           1  "
      ]
     },
     "execution_count": 3,
     "metadata": {},
     "output_type": "execute_result"
    }
   ],
   "source": [
    "df_loans.head()"
   ]
  },
  {
   "cell_type": "code",
   "execution_count": 3,
   "metadata": {},
   "outputs": [
    {
     "data": {
      "text/plain": [
       "Index(['ID', 'Age', 'Experience', 'Income', 'ZIP Code', 'Family', 'CCAvg',\n",
       "       'Education', 'Mortgage', 'Personal Loan', 'Securities Account',\n",
       "       'CD Account', 'Online', 'CreditCard'],\n",
       "      dtype='object')"
      ]
     },
     "execution_count": 3,
     "metadata": {},
     "output_type": "execute_result"
    }
   ],
   "source": [
    "df_loans.columns"
   ]
  },
  {
   "cell_type": "code",
   "execution_count": 4,
   "metadata": {},
   "outputs": [],
   "source": [
    "# rename the column names replacing spaces with '_'\n",
    "df_loans.columns = [column.replace(' ', '_').lower() for column in df_loans.columns]"
   ]
  },
  {
   "cell_type": "code",
   "execution_count": 5,
   "metadata": {},
   "outputs": [
    {
     "data": {
      "text/plain": [
       "Index(['id', 'age', 'experience', 'income', 'zip_code', 'family', 'ccavg',\n",
       "       'education', 'mortgage', 'personal_loan', 'securities_account',\n",
       "       'cd_account', 'online', 'creditcard'],\n",
       "      dtype='object')"
      ]
     },
     "execution_count": 5,
     "metadata": {},
     "output_type": "execute_result"
    }
   ],
   "source": [
    "df_loans.columns"
   ]
  },
  {
   "cell_type": "code",
   "execution_count": 6,
   "metadata": {},
   "outputs": [],
   "source": [
    "# drop the ID and ZIP Code columns as they are not required for the analysis\n",
    "df_loans.drop(columns=['id', 'zip_code'], inplace=True)"
   ]
  },
  {
   "cell_type": "code",
   "execution_count": 7,
   "metadata": {},
   "outputs": [
    {
     "data": {
      "text/plain": [
       "array([1, 2, 3], dtype=int64)"
      ]
     },
     "execution_count": 7,
     "metadata": {},
     "output_type": "execute_result"
    }
   ],
   "source": [
    "# examine the education variable\n",
    "df_loans.education.unique()"
   ]
  },
  {
   "cell_type": "code",
   "execution_count": 8,
   "metadata": {},
   "outputs": [],
   "source": [
    "# convert education to a categorical variable\n",
    "df_loans['education'] = df_loans['education'].astype('category') \n",
    "\n",
    "# define the new categories\n",
    "new_categories = {1: 'undergrad', 2: 'graduate', 3: 'advanced/professional'}\n",
    "df_loans.education.cat.rename_categories(new_categories, inplace=True)"
   ]
  },
  {
   "cell_type": "code",
   "execution_count": 9,
   "metadata": {},
   "outputs": [
    {
     "data": {
      "text/plain": [
       "['undergrad', 'graduate', 'advanced/professional']\n",
       "Categories (3, object): ['undergrad', 'graduate', 'advanced/professional']"
      ]
     },
     "execution_count": 9,
     "metadata": {},
     "output_type": "execute_result"
    }
   ],
   "source": [
    "df_loans.education.unique()"
   ]
  },
  {
   "cell_type": "code",
   "execution_count": 10,
   "metadata": {},
   "outputs": [],
   "source": [
    "df_loans = pd.get_dummies(df_loans, prefix_sep='_', drop_first=True)"
   ]
  },
  {
   "cell_type": "code",
   "execution_count": 11,
   "metadata": {},
   "outputs": [
    {
     "data": {
      "text/html": [
       "<div>\n",
       "<style scoped>\n",
       "    .dataframe tbody tr th:only-of-type {\n",
       "        vertical-align: middle;\n",
       "    }\n",
       "\n",
       "    .dataframe tbody tr th {\n",
       "        vertical-align: top;\n",
       "    }\n",
       "\n",
       "    .dataframe thead th {\n",
       "        text-align: right;\n",
       "    }\n",
       "</style>\n",
       "<table border=\"1\" class=\"dataframe\">\n",
       "  <thead>\n",
       "    <tr style=\"text-align: right;\">\n",
       "      <th></th>\n",
       "      <th>age</th>\n",
       "      <th>experience</th>\n",
       "      <th>income</th>\n",
       "      <th>family</th>\n",
       "      <th>ccavg</th>\n",
       "      <th>mortgage</th>\n",
       "      <th>personal_loan</th>\n",
       "      <th>securities_account</th>\n",
       "      <th>cd_account</th>\n",
       "      <th>online</th>\n",
       "      <th>creditcard</th>\n",
       "      <th>education_graduate</th>\n",
       "      <th>education_advanced/professional</th>\n",
       "    </tr>\n",
       "  </thead>\n",
       "  <tbody>\n",
       "    <tr>\n",
       "      <th>0</th>\n",
       "      <td>25</td>\n",
       "      <td>1</td>\n",
       "      <td>49</td>\n",
       "      <td>4</td>\n",
       "      <td>1.6</td>\n",
       "      <td>0</td>\n",
       "      <td>0</td>\n",
       "      <td>1</td>\n",
       "      <td>0</td>\n",
       "      <td>0</td>\n",
       "      <td>0</td>\n",
       "      <td>0</td>\n",
       "      <td>0</td>\n",
       "    </tr>\n",
       "    <tr>\n",
       "      <th>1</th>\n",
       "      <td>45</td>\n",
       "      <td>19</td>\n",
       "      <td>34</td>\n",
       "      <td>3</td>\n",
       "      <td>1.5</td>\n",
       "      <td>0</td>\n",
       "      <td>0</td>\n",
       "      <td>1</td>\n",
       "      <td>0</td>\n",
       "      <td>0</td>\n",
       "      <td>0</td>\n",
       "      <td>0</td>\n",
       "      <td>0</td>\n",
       "    </tr>\n",
       "    <tr>\n",
       "      <th>2</th>\n",
       "      <td>39</td>\n",
       "      <td>15</td>\n",
       "      <td>11</td>\n",
       "      <td>1</td>\n",
       "      <td>1.0</td>\n",
       "      <td>0</td>\n",
       "      <td>0</td>\n",
       "      <td>0</td>\n",
       "      <td>0</td>\n",
       "      <td>0</td>\n",
       "      <td>0</td>\n",
       "      <td>0</td>\n",
       "      <td>0</td>\n",
       "    </tr>\n",
       "    <tr>\n",
       "      <th>3</th>\n",
       "      <td>35</td>\n",
       "      <td>9</td>\n",
       "      <td>100</td>\n",
       "      <td>1</td>\n",
       "      <td>2.7</td>\n",
       "      <td>0</td>\n",
       "      <td>0</td>\n",
       "      <td>0</td>\n",
       "      <td>0</td>\n",
       "      <td>0</td>\n",
       "      <td>0</td>\n",
       "      <td>1</td>\n",
       "      <td>0</td>\n",
       "    </tr>\n",
       "    <tr>\n",
       "      <th>4</th>\n",
       "      <td>35</td>\n",
       "      <td>8</td>\n",
       "      <td>45</td>\n",
       "      <td>4</td>\n",
       "      <td>1.0</td>\n",
       "      <td>0</td>\n",
       "      <td>0</td>\n",
       "      <td>0</td>\n",
       "      <td>0</td>\n",
       "      <td>0</td>\n",
       "      <td>1</td>\n",
       "      <td>1</td>\n",
       "      <td>0</td>\n",
       "    </tr>\n",
       "  </tbody>\n",
       "</table>\n",
       "</div>"
      ],
      "text/plain": [
       "   age  experience  income  family  ccavg  mortgage  personal_loan  \\\n",
       "0   25           1      49       4    1.6         0              0   \n",
       "1   45          19      34       3    1.5         0              0   \n",
       "2   39          15      11       1    1.0         0              0   \n",
       "3   35           9     100       1    2.7         0              0   \n",
       "4   35           8      45       4    1.0         0              0   \n",
       "\n",
       "   securities_account  cd_account  online  creditcard  education_graduate  \\\n",
       "0                   1           0       0           0                   0   \n",
       "1                   1           0       0           0                   0   \n",
       "2                   0           0       0           0                   0   \n",
       "3                   0           0       0           0                   1   \n",
       "4                   0           0       0           1                   1   \n",
       "\n",
       "   education_advanced/professional  \n",
       "0                                0  \n",
       "1                                0  \n",
       "2                                0  \n",
       "3                                0  \n",
       "4                                0  "
      ]
     },
     "execution_count": 11,
     "metadata": {},
     "output_type": "execute_result"
    }
   ],
   "source": [
    "df_loans.head()"
   ]
  },
  {
   "cell_type": "code",
   "execution_count": 12,
   "metadata": {},
   "outputs": [],
   "source": [
    "Y = df_loans['personal_loan']\n",
    "X = df_loans.drop(columns=['personal_loan'])"
   ]
  },
  {
   "cell_type": "code",
   "execution_count": 13,
   "metadata": {},
   "outputs": [],
   "source": [
    "# partition data\n",
    "X_train, X_valid, Y_train, Y_valid = train_test_split(X, Y, test_size=0.25, random_state=42)"
   ]
  },
  {
   "cell_type": "markdown",
   "metadata": {},
   "source": [
    "#### Regularization\n",
    "\n",
    "Regularization (i.e., shrinkage) techniques are used to constrain the magnitude of the coefficients by imposing a penalty on the model-fit. This improves the stability and the predictive power of the model. There are two common types of regularization methods: L1 and L2. \n",
    "\n",
    "- L1 regularization adds an L1 penalty equal to the absolute value of the magnitude of coefficients. This drives the values of certain coefficients towards 0, **eliminating the least important features in the model**. L1 regularization can yield sparse models. This is helpful when dealing with a large number of predictors in the model.\n",
    "\n",
    "- L2 regularization adds an L2 penalty equal to the square of the magnitude of coefficients. L2 will not yield sparse models and all coefficients are shrunk by the same factor."
   ]
  },
  {
   "cell_type": "code",
   "execution_count": 14,
   "metadata": {},
   "outputs": [
    {
     "data": {
      "text/plain": [
       "LogisticRegression(C=1e+42, solver='liblinear')"
      ]
     },
     "execution_count": 14,
     "metadata": {},
     "output_type": "execute_result"
    }
   ],
   "source": [
    "# fit a logistic regression model. C=1e42 is selected to avoid regularization.\n",
    "logit_reg = LogisticRegression(penalty=\"l2\", C=1e42, solver='liblinear')\n",
    "logit_reg.fit(X_train, Y_train)"
   ]
  },
  {
   "cell_type": "code",
   "execution_count": 15,
   "metadata": {},
   "outputs": [
    {
     "name": "stdout",
     "output_type": "stream",
     "text": [
      "intercept  -12.093161482593368\n"
     ]
    },
    {
     "data": {
      "text/html": [
       "<div>\n",
       "<style scoped>\n",
       "    .dataframe tbody tr th:only-of-type {\n",
       "        vertical-align: middle;\n",
       "    }\n",
       "\n",
       "    .dataframe tbody tr th {\n",
       "        vertical-align: top;\n",
       "    }\n",
       "\n",
       "    .dataframe thead th {\n",
       "        text-align: right;\n",
       "    }\n",
       "</style>\n",
       "<table border=\"1\" class=\"dataframe\">\n",
       "  <thead>\n",
       "    <tr style=\"text-align: right;\">\n",
       "      <th></th>\n",
       "      <th>coeff</th>\n",
       "    </tr>\n",
       "  </thead>\n",
       "  <tbody>\n",
       "    <tr>\n",
       "      <th>age</th>\n",
       "      <td>-0.030373</td>\n",
       "    </tr>\n",
       "    <tr>\n",
       "      <th>experience</th>\n",
       "      <td>0.040867</td>\n",
       "    </tr>\n",
       "    <tr>\n",
       "      <th>income</th>\n",
       "      <td>0.057935</td>\n",
       "    </tr>\n",
       "    <tr>\n",
       "      <th>family</th>\n",
       "      <td>0.639442</td>\n",
       "    </tr>\n",
       "    <tr>\n",
       "      <th>ccavg</th>\n",
       "      <td>0.147727</td>\n",
       "    </tr>\n",
       "    <tr>\n",
       "      <th>mortgage</th>\n",
       "      <td>0.001151</td>\n",
       "    </tr>\n",
       "    <tr>\n",
       "      <th>securities_account</th>\n",
       "      <td>-0.948314</td>\n",
       "    </tr>\n",
       "    <tr>\n",
       "      <th>cd_account</th>\n",
       "      <td>3.777481</td>\n",
       "    </tr>\n",
       "    <tr>\n",
       "      <th>online</th>\n",
       "      <td>-0.705371</td>\n",
       "    </tr>\n",
       "    <tr>\n",
       "      <th>creditcard</th>\n",
       "      <td>-1.126106</td>\n",
       "    </tr>\n",
       "    <tr>\n",
       "      <th>education_graduate</th>\n",
       "      <td>3.732563</td>\n",
       "    </tr>\n",
       "    <tr>\n",
       "      <th>education_advanced/professional</th>\n",
       "      <td>3.836272</td>\n",
       "    </tr>\n",
       "  </tbody>\n",
       "</table>\n",
       "</div>"
      ],
      "text/plain": [
       "                                    coeff\n",
       "age                             -0.030373\n",
       "experience                       0.040867\n",
       "income                           0.057935\n",
       "family                           0.639442\n",
       "ccavg                            0.147727\n",
       "mortgage                         0.001151\n",
       "securities_account              -0.948314\n",
       "cd_account                       3.777481\n",
       "online                          -0.705371\n",
       "creditcard                      -1.126106\n",
       "education_graduate               3.732563\n",
       "education_advanced/professional  3.836272"
      ]
     },
     "execution_count": 15,
     "metadata": {},
     "output_type": "execute_result"
    }
   ],
   "source": [
    "print('intercept ', logit_reg.intercept_[0])\n",
    "pd.DataFrame({'coeff': logit_reg.coef_[0]}, index=X.columns)"
   ]
  },
  {
   "cell_type": "code",
   "execution_count": 16,
   "metadata": {},
   "outputs": [
    {
     "data": {
      "text/html": [
       "<div>\n",
       "<style scoped>\n",
       "    .dataframe tbody tr th:only-of-type {\n",
       "        vertical-align: middle;\n",
       "    }\n",
       "\n",
       "    .dataframe tbody tr th {\n",
       "        vertical-align: top;\n",
       "    }\n",
       "\n",
       "    .dataframe thead th {\n",
       "        text-align: right;\n",
       "    }\n",
       "</style>\n",
       "<table border=\"1\" class=\"dataframe\">\n",
       "  <thead>\n",
       "    <tr style=\"text-align: right;\">\n",
       "      <th></th>\n",
       "      <th>actual_class</th>\n",
       "      <th>P(Y=0)</th>\n",
       "      <th>P(Y=1)</th>\n",
       "      <th>predicted_class</th>\n",
       "    </tr>\n",
       "  </thead>\n",
       "  <tbody>\n",
       "    <tr>\n",
       "      <th>1084</th>\n",
       "      <td>1</td>\n",
       "      <td>0.003013</td>\n",
       "      <td>0.996987</td>\n",
       "      <td>1</td>\n",
       "    </tr>\n",
       "    <tr>\n",
       "      <th>4842</th>\n",
       "      <td>1</td>\n",
       "      <td>0.011557</td>\n",
       "      <td>0.988443</td>\n",
       "      <td>1</td>\n",
       "    </tr>\n",
       "    <tr>\n",
       "      <th>29</th>\n",
       "      <td>1</td>\n",
       "      <td>0.272148</td>\n",
       "      <td>0.727852</td>\n",
       "      <td>1</td>\n",
       "    </tr>\n",
       "    <tr>\n",
       "      <th>4628</th>\n",
       "      <td>1</td>\n",
       "      <td>0.323326</td>\n",
       "      <td>0.676674</td>\n",
       "      <td>1</td>\n",
       "    </tr>\n",
       "    <tr>\n",
       "      <th>2215</th>\n",
       "      <td>1</td>\n",
       "      <td>0.019900</td>\n",
       "      <td>0.980100</td>\n",
       "      <td>1</td>\n",
       "    </tr>\n",
       "  </tbody>\n",
       "</table>\n",
       "</div>"
      ],
      "text/plain": [
       "      actual_class    P(Y=0)    P(Y=1)  predicted_class\n",
       "1084             1  0.003013  0.996987                1\n",
       "4842             1  0.011557  0.988443                1\n",
       "29               1  0.272148  0.727852                1\n",
       "4628             1  0.323326  0.676674                1\n",
       "2215             1  0.019900  0.980100                1"
      ]
     },
     "execution_count": 16,
     "metadata": {},
     "output_type": "execute_result"
    }
   ],
   "source": [
    "Y_valid_predicted = logit_reg.predict(X_valid) # predicting Y on the validation set\n",
    "Y_valid_pred_prob = logit_reg.predict_proba(X_valid) # get the predicted probabilties for each class\n",
    "\n",
    "# display in a DataFrame\n",
    "logit_result = pd.DataFrame({'actual_class': Y_valid, \n",
    "                             'P(Y=0)': [p[0] for p in Y_valid_pred_prob],\n",
    "                             'P(Y=1)': [p[1] for p in Y_valid_pred_prob],\n",
    "                             'predicted_class': Y_valid_predicted})\n",
    "\n",
    "logit_result[logit_result.predicted_class == 1].head()"
   ]
  },
  {
   "cell_type": "code",
   "execution_count": 17,
   "metadata": {},
   "outputs": [
    {
     "data": {
      "text/html": [
       "<div>\n",
       "<style scoped>\n",
       "    .dataframe tbody tr th:only-of-type {\n",
       "        vertical-align: middle;\n",
       "    }\n",
       "\n",
       "    .dataframe tbody tr th {\n",
       "        vertical-align: top;\n",
       "    }\n",
       "\n",
       "    .dataframe thead th {\n",
       "        text-align: right;\n",
       "    }\n",
       "</style>\n",
       "<table border=\"1\" class=\"dataframe\">\n",
       "  <thead>\n",
       "    <tr style=\"text-align: right;\">\n",
       "      <th></th>\n",
       "      <th>actual_class</th>\n",
       "      <th>P(Y=0)</th>\n",
       "      <th>P(Y=1)</th>\n",
       "      <th>predicted_class</th>\n",
       "    </tr>\n",
       "  </thead>\n",
       "  <tbody>\n",
       "    <tr>\n",
       "      <th>1501</th>\n",
       "      <td>0</td>\n",
       "      <td>0.999603</td>\n",
       "      <td>0.000397</td>\n",
       "      <td>0</td>\n",
       "    </tr>\n",
       "    <tr>\n",
       "      <th>2586</th>\n",
       "      <td>1</td>\n",
       "      <td>0.834185</td>\n",
       "      <td>0.165815</td>\n",
       "      <td>0</td>\n",
       "    </tr>\n",
       "    <tr>\n",
       "      <th>2653</th>\n",
       "      <td>0</td>\n",
       "      <td>0.986463</td>\n",
       "      <td>0.013537</td>\n",
       "      <td>0</td>\n",
       "    </tr>\n",
       "    <tr>\n",
       "      <th>1055</th>\n",
       "      <td>0</td>\n",
       "      <td>0.999957</td>\n",
       "      <td>0.000043</td>\n",
       "      <td>0</td>\n",
       "    </tr>\n",
       "    <tr>\n",
       "      <th>705</th>\n",
       "      <td>0</td>\n",
       "      <td>0.996725</td>\n",
       "      <td>0.003275</td>\n",
       "      <td>0</td>\n",
       "    </tr>\n",
       "  </tbody>\n",
       "</table>\n",
       "</div>"
      ],
      "text/plain": [
       "      actual_class    P(Y=0)    P(Y=1)  predicted_class\n",
       "1501             0  0.999603  0.000397                0\n",
       "2586             1  0.834185  0.165815                0\n",
       "2653             0  0.986463  0.013537                0\n",
       "1055             0  0.999957  0.000043                0\n",
       "705              0  0.996725  0.003275                0"
      ]
     },
     "execution_count": 17,
     "metadata": {},
     "output_type": "execute_result"
    }
   ],
   "source": [
    "logit_result[logit_result.predicted_class == 0].head()"
   ]
  },
  {
   "cell_type": "code",
   "execution_count": 18,
   "metadata": {},
   "outputs": [
    {
     "name": "stdout",
     "output_type": "stream",
     "text": [
      "************Logistic Regression************\n",
      "Validation Set Classification accuracy: 0.9624\n",
      "\n",
      "\n",
      "Validation Set Confusion matrix: \n",
      "[[1106   10]\n",
      " [  37   97]]\n",
      "\n",
      "\n",
      "Validation Set Classification Report:\n",
      "               precision    recall  f1-score   support\n",
      "\n",
      "           0       0.97      0.99      0.98      1116\n",
      "           1       0.91      0.72      0.80       134\n",
      "\n",
      "    accuracy                           0.96      1250\n",
      "   macro avg       0.94      0.86      0.89      1250\n",
      "weighted avg       0.96      0.96      0.96      1250\n",
      "\n"
     ]
    }
   ],
   "source": [
    "conf_matrix = confusion_matrix(Y_valid, Y_valid_predicted)\n",
    "print('************Logistic Regression************')\n",
    "print(\"Validation Set Classification accuracy:\", logit_reg.score(X_valid,Y_valid))\n",
    "print(\"\\n\")\n",
    "print (\"Validation Set Confusion matrix: \\n\" + str(conf_matrix))\n",
    "print(\"\\n\")\n",
    "print(\"Validation Set Classification Report:\\n\",classification_report(Y_valid, Y_valid_predicted))"
   ]
  },
  {
   "cell_type": "code",
   "execution_count": 19,
   "metadata": {},
   "outputs": [
    {
     "name": "stdout",
     "output_type": "stream",
     "text": [
      "[[1106   10]\n",
      " [  37   97]]\n"
     ]
    },
    {
     "data": {
      "image/png": "[encoded data removed]",
      "text/plain": [
       "<Figure size 432x288 with 2 Axes>"
      ]
     },
     "metadata": {
      "needs_background": "light"
     },
     "output_type": "display_data"
    }
   ],
   "source": [
    "disp = plot_confusion_matrix(logit_reg, X_valid, Y_valid,\n",
    "                                 display_labels=['Not Accepted', 'Accepted'],\n",
    "                                 cmap=plt.cm.RdPu,\n",
    "                                 normalize=None)\n",
    "print(disp.confusion_matrix)"
   ]
  },
  {
   "cell_type": "code",
   "execution_count": 20,
   "metadata": {},
   "outputs": [
    {
     "name": "stdout",
     "output_type": "stream",
     "text": [
      "Area under the ROC: 0.971372973840475\n"
     ]
    },
    {
     "data": {
      "image/png": "[encoded data removed]",
      "text/plain": [
       "<Figure size 432x288 with 1 Axes>"
      ]
     },
     "metadata": {
      "needs_background": "light"
     },
     "output_type": "display_data"
    }
   ],
   "source": [
    "viz = plot_roc_curve(logit_reg, X_valid, Y_valid)\n",
    "print('Area under the ROC:', viz.roc_auc)   \n",
    "plt.plot([0, 1], [0, 1])\n",
    "plt.xlim([0.0, 1.0]) \n",
    "plt.ylim([0.0, 1.0])\n",
    "plt.show();"
   ]
  },
  {
   "cell_type": "markdown",
   "metadata": {},
   "source": [
    "### Logistic Regression: Explanation-oriented Approach"
   ]
  },
  {
   "cell_type": "code",
   "execution_count": 21,
   "metadata": {},
   "outputs": [],
   "source": [
    "import statsmodels.api as sm"
   ]
  },
  {
   "cell_type": "code",
   "execution_count": 22,
   "metadata": {},
   "outputs": [
    {
     "name": "stdout",
     "output_type": "stream",
     "text": [
      "Optimization terminated successfully.\n",
      "         Current function value: 0.117230\n",
      "         Iterations 9\n"
     ]
    },
    {
     "data": {
      "text/html": [
       "<table class=\"simpletable\">\n",
       "<caption>Logit Regression Results</caption>\n",
       "<tr>\n",
       "  <th>Dep. Variable:</th>     <td>personal_loan</td>  <th>  No. Observations:  </th>  <td>  5000</td> \n",
       "</tr>\n",
       "<tr>\n",
       "  <th>Model:</th>                 <td>Logit</td>      <th>  Df Residuals:      </th>  <td>  4987</td> \n",
       "</tr>\n",
       "<tr>\n",
       "  <th>Method:</th>                 <td>MLE</td>       <th>  Df Model:          </th>  <td>    12</td> \n",
       "</tr>\n",
       "<tr>\n",
       "  <th>Date:</th>            <td>Tue, 30 Mar 2021</td> <th>  Pseudo R-squ.:     </th>  <td>0.6293</td> \n",
       "</tr>\n",
       "<tr>\n",
       "  <th>Time:</th>                <td>14:27:27</td>     <th>  Log-Likelihood:    </th> <td> -586.15</td>\n",
       "</tr>\n",
       "<tr>\n",
       "  <th>converged:</th>             <td>True</td>       <th>  LL-Null:           </th> <td> -1581.0</td>\n",
       "</tr>\n",
       "<tr>\n",
       "  <th>Covariance Type:</th>     <td>nonrobust</td>    <th>  LLR p-value:       </th>  <td> 0.000</td> \n",
       "</tr>\n",
       "</table>\n",
       "<table class=\"simpletable\">\n",
       "<tr>\n",
       "                 <td></td>                    <th>coef</th>     <th>std err</th>      <th>z</th>      <th>P>|z|</th>  <th>[0.025</th>    <th>0.975]</th>  \n",
       "</tr>\n",
       "<tr>\n",
       "  <th>const</th>                           <td>  -12.3105</td> <td>    1.818</td> <td>   -6.773</td> <td> 0.000</td> <td>  -15.873</td> <td>   -8.748</td>\n",
       "</tr>\n",
       "<tr>\n",
       "  <th>age</th>                             <td>   -0.0359</td> <td>    0.067</td> <td>   -0.534</td> <td> 0.593</td> <td>   -0.168</td> <td>    0.096</td>\n",
       "</tr>\n",
       "<tr>\n",
       "  <th>experience</th>                      <td>    0.0450</td> <td>    0.067</td> <td>    0.674</td> <td> 0.500</td> <td>   -0.086</td> <td>    0.176</td>\n",
       "</tr>\n",
       "<tr>\n",
       "  <th>income</th>                          <td>    0.0602</td> <td>    0.003</td> <td>   20.289</td> <td> 0.000</td> <td>    0.054</td> <td>    0.066</td>\n",
       "</tr>\n",
       "<tr>\n",
       "  <th>family</th>                          <td>    0.6182</td> <td>    0.077</td> <td>    8.024</td> <td> 0.000</td> <td>    0.467</td> <td>    0.769</td>\n",
       "</tr>\n",
       "<tr>\n",
       "  <th>ccavg</th>                           <td>    0.1634</td> <td>    0.044</td> <td>    3.708</td> <td> 0.000</td> <td>    0.077</td> <td>    0.250</td>\n",
       "</tr>\n",
       "<tr>\n",
       "  <th>mortgage</th>                        <td>    0.0007</td> <td>    0.001</td> <td>    1.196</td> <td> 0.232</td> <td>   -0.000</td> <td>    0.002</td>\n",
       "</tr>\n",
       "<tr>\n",
       "  <th>securities_account</th>              <td>   -0.8701</td> <td>    0.301</td> <td>   -2.894</td> <td> 0.004</td> <td>   -1.459</td> <td>   -0.281</td>\n",
       "</tr>\n",
       "<tr>\n",
       "  <th>cd_account</th>                      <td>    3.8389</td> <td>    0.342</td> <td>   11.239</td> <td> 0.000</td> <td>    3.169</td> <td>    4.508</td>\n",
       "</tr>\n",
       "<tr>\n",
       "  <th>online</th>                          <td>   -0.7605</td> <td>    0.166</td> <td>   -4.589</td> <td> 0.000</td> <td>   -1.085</td> <td>   -0.436</td>\n",
       "</tr>\n",
       "<tr>\n",
       "  <th>creditcard</th>                      <td>   -1.0382</td> <td>    0.213</td> <td>   -4.872</td> <td> 0.000</td> <td>   -1.456</td> <td>   -0.621</td>\n",
       "</tr>\n",
       "<tr>\n",
       "  <th>education_graduate</th>              <td>    3.9654</td> <td>    0.270</td> <td>   14.708</td> <td> 0.000</td> <td>    3.437</td> <td>    4.494</td>\n",
       "</tr>\n",
       "<tr>\n",
       "  <th>education_advanced/professional</th> <td>    4.0641</td> <td>    0.267</td> <td>   15.225</td> <td> 0.000</td> <td>    3.541</td> <td>    4.587</td>\n",
       "</tr>\n",
       "</table><br/><br/>Possibly complete quasi-separation: A fraction 0.11 of observations can be<br/>perfectly predicted. This might indicate that there is complete<br/>quasi-separation. In this case some parameters will not be identified."
      ],
      "text/plain": [
       "<class 'statsmodels.iolib.summary.Summary'>\n",
       "\"\"\"\n",
       "                           Logit Regression Results                           \n",
       "==============================================================================\n",
       "Dep. Variable:          personal_loan   No. Observations:                 5000\n",
       "Model:                          Logit   Df Residuals:                     4987\n",
       "Method:                           MLE   Df Model:                           12\n",
       "Date:                Tue, 30 Mar 2021   Pseudo R-squ.:                  0.6293\n",
       "Time:                        14:27:27   Log-Likelihood:                -586.15\n",
       "converged:                       True   LL-Null:                       -1581.0\n",
       "Covariance Type:            nonrobust   LLR p-value:                     0.000\n",
       "===================================================================================================\n",
       "                                      coef    std err          z      P>|z|      [0.025      0.975]\n",
       "---------------------------------------------------------------------------------------------------\n",
       "const                             -12.3105      1.818     -6.773      0.000     -15.873      -8.748\n",
       "age                                -0.0359      0.067     -0.534      0.593      -0.168       0.096\n",
       "experience                          0.0450      0.067      0.674      0.500      -0.086       0.176\n",
       "income                              0.0602      0.003     20.289      0.000       0.054       0.066\n",
       "family                              0.6182      0.077      8.024      0.000       0.467       0.769\n",
       "ccavg                               0.1634      0.044      3.708      0.000       0.077       0.250\n",
       "mortgage                            0.0007      0.001      1.196      0.232      -0.000       0.002\n",
       "securities_account                 -0.8701      0.301     -2.894      0.004      -1.459      -0.281\n",
       "cd_account                          3.8389      0.342     11.239      0.000       3.169       4.508\n",
       "online                             -0.7605      0.166     -4.589      0.000      -1.085      -0.436\n",
       "creditcard                         -1.0382      0.213     -4.872      0.000      -1.456      -0.621\n",
       "education_graduate                  3.9654      0.270     14.708      0.000       3.437       4.494\n",
       "education_advanced/professional     4.0641      0.267     15.225      0.000       3.541       4.587\n",
       "===================================================================================================\n",
       "\n",
       "Possibly complete quasi-separation: A fraction 0.11 of observations can be\n",
       "perfectly predicted. This might indicate that there is complete\n",
       "quasi-separation. In this case some parameters will not be identified.\n",
       "\"\"\""
      ]
     },
     "execution_count": 22,
     "metadata": {},
     "output_type": "execute_result"
    }
   ],
   "source": [
    "X = sm.add_constant(X)\n",
    "Y = df_loans['personal_loan']\n",
    "\n",
    "logit_sm = sm.Logit(Y, X)\n",
    "results = logit_sm.fit()\n",
    "results.summary()"
   ]
  },
  {
   "cell_type": "markdown",
   "metadata": {},
   "source": [
    "#### References\n",
    "\n",
    "- Chapters 8 and 10 - Data Mining for Business Analytics: Concepts, Techniques, and Applications in Python, Galit Shmueli et al. 2019. \n",
    "- [Supervised Learning with Scikit-Learn](http://scikit-learn.org/stable/supervised_learning.html#supervised-learning)"
   ]
  }
 ],
 "metadata": {
  "kernelspec": {
   "display_name": "Python 3",
   "language": "python",
   "name": "python3"
  },
  "language_info": {
   "codemirror_mode": {
    "name": "ipython",
    "version": 3
   },
   "file_extension": ".py",
   "mimetype": "text/x-python",
   "name": "python",
   "nbconvert_exporter": "python",
   "pygments_lexer": "ipython3",
   "version": "3.8.5"
  }
 },
 "nbformat": 4,
 "nbformat_minor": 4
}
