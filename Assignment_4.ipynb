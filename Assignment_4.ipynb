{
 "cells": [
  {
   "cell_type": "code",
   "execution_count": 31,
   "metadata": {},
   "outputs": [],
   "source": [
    "import numpy as np\n",
    "import pandas as pd\n",
    "import seaborn as sns\n",
    "\n",
    "import matplotlib.pylab as plt\n",
    "%matplotlib inline \n",
    "\n",
    "from sklearn import datasets\n",
    "from sklearn import preprocessing\n",
    "from sklearn.model_selection import train_test_split, cross_validate, cross_val_score\n",
    "from sklearn.metrics import confusion_matrix, classification_report, precision_score, accuracy_score, recall_score, f1_score"
   ]
  },
  {
   "cell_type": "code",
   "execution_count": 32,
   "metadata": {},
   "outputs": [
    {
     "data": {
      "text/html": [
       "<div>\n",
       "<style scoped>\n",
       "    .dataframe tbody tr th:only-of-type {\n",
       "        vertical-align: middle;\n",
       "    }\n",
       "\n",
       "    .dataframe tbody tr th {\n",
       "        vertical-align: top;\n",
       "    }\n",
       "\n",
       "    .dataframe thead th {\n",
       "        text-align: right;\n",
       "    }\n",
       "</style>\n",
       "<table border=\"1\" class=\"dataframe\">\n",
       "  <thead>\n",
       "    <tr style=\"text-align: right;\">\n",
       "      <th></th>\n",
       "      <th>Pregnancies</th>\n",
       "      <th>Glucose</th>\n",
       "      <th>BloodPressure</th>\n",
       "      <th>SkinThickness</th>\n",
       "      <th>Insulin</th>\n",
       "      <th>BMI</th>\n",
       "      <th>DiabetesPedigreeFunction</th>\n",
       "      <th>Age</th>\n",
       "      <th>Outcome</th>\n",
       "    </tr>\n",
       "  </thead>\n",
       "  <tbody>\n",
       "    <tr>\n",
       "      <th>0</th>\n",
       "      <td>6</td>\n",
       "      <td>148</td>\n",
       "      <td>72</td>\n",
       "      <td>35</td>\n",
       "      <td>0</td>\n",
       "      <td>33.6</td>\n",
       "      <td>0.627</td>\n",
       "      <td>50</td>\n",
       "      <td>1</td>\n",
       "    </tr>\n",
       "    <tr>\n",
       "      <th>1</th>\n",
       "      <td>1</td>\n",
       "      <td>85</td>\n",
       "      <td>66</td>\n",
       "      <td>29</td>\n",
       "      <td>0</td>\n",
       "      <td>26.6</td>\n",
       "      <td>0.351</td>\n",
       "      <td>31</td>\n",
       "      <td>0</td>\n",
       "    </tr>\n",
       "    <tr>\n",
       "      <th>2</th>\n",
       "      <td>8</td>\n",
       "      <td>183</td>\n",
       "      <td>64</td>\n",
       "      <td>0</td>\n",
       "      <td>0</td>\n",
       "      <td>23.3</td>\n",
       "      <td>0.672</td>\n",
       "      <td>32</td>\n",
       "      <td>1</td>\n",
       "    </tr>\n",
       "    <tr>\n",
       "      <th>3</th>\n",
       "      <td>1</td>\n",
       "      <td>89</td>\n",
       "      <td>66</td>\n",
       "      <td>23</td>\n",
       "      <td>94</td>\n",
       "      <td>28.1</td>\n",
       "      <td>0.167</td>\n",
       "      <td>21</td>\n",
       "      <td>0</td>\n",
       "    </tr>\n",
       "    <tr>\n",
       "      <th>4</th>\n",
       "      <td>0</td>\n",
       "      <td>137</td>\n",
       "      <td>40</td>\n",
       "      <td>35</td>\n",
       "      <td>168</td>\n",
       "      <td>43.1</td>\n",
       "      <td>2.288</td>\n",
       "      <td>33</td>\n",
       "      <td>1</td>\n",
       "    </tr>\n",
       "  </tbody>\n",
       "</table>\n",
       "</div>"
      ],
      "text/plain": [
       "   Pregnancies  Glucose  BloodPressure  SkinThickness  Insulin   BMI  \\\n",
       "0            6      148             72             35        0  33.6   \n",
       "1            1       85             66             29        0  26.6   \n",
       "2            8      183             64              0        0  23.3   \n",
       "3            1       89             66             23       94  28.1   \n",
       "4            0      137             40             35      168  43.1   \n",
       "\n",
       "   DiabetesPedigreeFunction  Age  Outcome  \n",
       "0                     0.627   50        1  \n",
       "1                     0.351   31        0  \n",
       "2                     0.672   32        1  \n",
       "3                     0.167   21        0  \n",
       "4                     2.288   33        1  "
      ]
     },
     "execution_count": 32,
     "metadata": {},
     "output_type": "execute_result"
    }
   ],
   "source": [
    "dia = pd.read_csv('diabetes.csv')\n",
    "dia.head(5)"
   ]
  },
  {
   "cell_type": "code",
   "execution_count": 33,
   "metadata": {},
   "outputs": [],
   "source": [
    "random_state =  np.random.RandomState(42)"
   ]
  },
  {
   "cell_type": "code",
   "execution_count": 34,
   "metadata": {},
   "outputs": [],
   "source": [
    "X = dia.iloc[:, 0:8].values # .values converts the DataFrame into the NumPy representation"
   ]
  },
  {
   "cell_type": "code",
   "execution_count": 35,
   "metadata": {},
   "outputs": [
    {
     "name": "stdout",
     "output_type": "stream",
     "text": [
      "(768, 8)\n",
      "<class 'numpy.ndarray'>\n"
     ]
    }
   ],
   "source": [
    "print(X.shape)\n",
    "print(type(X))"
   ]
  },
  {
   "cell_type": "code",
   "execution_count": 36,
   "metadata": {},
   "outputs": [],
   "source": [
    "Y = dia.iloc[:, 8].values"
   ]
  },
  {
   "cell_type": "code",
   "execution_count": 37,
   "metadata": {},
   "outputs": [
    {
     "name": "stdout",
     "output_type": "stream",
     "text": [
      "(768,)\n",
      "<class 'numpy.ndarray'>\n"
     ]
    }
   ],
   "source": [
    "print(Y.shape)\n",
    "print(type(Y))"
   ]
  },
  {
   "cell_type": "code",
   "execution_count": 38,
   "metadata": {},
   "outputs": [
    {
     "name": "stdout",
     "output_type": "stream",
     "text": [
      "(614, 8) (614,)\n",
      "(154, 8) (154,)\n"
     ]
    }
   ],
   "source": [
    "X_train, X_test, Y_train, Y_test = train_test_split(X, Y, test_size=0.2, random_state=random_state)\n",
    "print(X_train.shape, Y_train.shape)\n",
    "print(X_test.shape, Y_test.shape)"
   ]
  },
  {
   "cell_type": "code",
   "execution_count": 39,
   "metadata": {},
   "outputs": [
    {
     "name": "stdout",
     "output_type": "stream",
     "text": [
      "(245, 8) (245,)\n",
      "(369, 8) (369,)\n"
     ]
    }
   ],
   "source": [
    "X_train_, X_test_, Y_train_, Y_test_ = train_test_split(X_train, Y_train, test_size=0.6, random_state=random_state)\n",
    "print(X_train_.shape, Y_train_.shape)\n",
    "print(X_test_.shape, Y_test_.shape)"
   ]
  },
  {
   "cell_type": "code",
   "execution_count": null,
   "metadata": {},
   "outputs": [],
   "source": []
  },
  {
   "cell_type": "code",
   "execution_count": 40,
   "metadata": {},
   "outputs": [
    {
     "name": "stdout",
     "output_type": "stream",
     "text": [
      "[0 1]\n",
      "[163  82]\n"
     ]
    }
   ],
   "source": [
    "# check class balance in the training set\n",
    "unique_elements, counts_elements = np.unique(Y_train_, return_counts=True)\n",
    "print(unique_elements)\n",
    "print(counts_elements)"
   ]
  },
  {
   "cell_type": "code",
   "execution_count": 41,
   "metadata": {},
   "outputs": [
    {
     "name": "stdout",
     "output_type": "stream",
     "text": [
      "[0 1]\n",
      "[238 131]\n"
     ]
    }
   ],
   "source": [
    "# check class distribution - test set\n",
    "unique_elements, counts_elements = np.unique(Y_test_, return_counts=True)\n",
    "print(unique_elements)\n",
    "print(counts_elements)"
   ]
  },
  {
   "cell_type": "code",
   "execution_count": null,
   "metadata": {},
   "outputs": [],
   "source": []
  },
  {
   "cell_type": "code",
   "execution_count": 42,
   "metadata": {},
   "outputs": [],
   "source": [
    "from sklearn.feature_selection import SelectKBest, chi2"
   ]
  },
  {
   "cell_type": "code",
   "execution_count": 43,
   "metadata": {},
   "outputs": [],
   "source": [
    "ch2 = SelectKBest(chi2, k=8) # perform a chi-square test to select the top 10 features \n",
    "X_train_ = ch2.fit_transform(X_train_, Y_train_)\n",
    "X_test_ = ch2.transform(X_test_)"
   ]
  },
  {
   "cell_type": "code",
   "execution_count": 44,
   "metadata": {},
   "outputs": [
    {
     "name": "stdout",
     "output_type": "stream",
     "text": [
      "(245, 8)\n",
      "(369, 8)\n"
     ]
    }
   ],
   "source": [
    "print(X_train_.shape)\n",
    "print(X_test_.shape)"
   ]
  },
  {
   "cell_type": "code",
   "execution_count": 45,
   "metadata": {},
   "outputs": [
    {
     "data": {
      "text/plain": [
       "Index(['Pregnancies', 'Glucose', 'BloodPressure', 'SkinThickness', 'Insulin',\n",
       "       'BMI', 'DiabetesPedigreeFunction', 'Age'],\n",
       "      dtype='object')"
      ]
     },
     "execution_count": 45,
     "metadata": {},
     "output_type": "execute_result"
    }
   ],
   "source": [
    "cols = ch2.get_support(indices=True)\n",
    "dia.iloc[:,cols].columns"
   ]
  },
  {
   "cell_type": "code",
   "execution_count": null,
   "metadata": {},
   "outputs": [],
   "source": []
  },
  {
   "cell_type": "code",
   "execution_count": 46,
   "metadata": {},
   "outputs": [],
   "source": [
    "from sklearn.preprocessing import StandardScaler\n",
    "\n",
    "sc = StandardScaler()\n",
    "X_train_ = sc.fit_transform(X_train_)\n",
    "X_test_ = sc.transform(X_test_)"
   ]
  },
  {
   "cell_type": "code",
   "execution_count": null,
   "metadata": {},
   "outputs": [],
   "source": []
  },
  {
   "cell_type": "code",
   "execution_count": 88,
   "metadata": {},
   "outputs": [
    {
     "data": {
      "text/plain": [
       "KNeighborsClassifier(n_neighbors=2)"
      ]
     },
     "execution_count": 88,
     "metadata": {},
     "output_type": "execute_result"
    }
   ],
   "source": [
    "from sklearn.neighbors import KNeighborsClassifier\n",
    "\n",
    "knn = KNeighborsClassifier(n_neighbors=2, weights='uniform') # initialize a KNN classifier\n",
    "knn.fit(X_train_, Y_train_) # train classifer with training set"
   ]
  },
  {
   "cell_type": "code",
   "execution_count": null,
   "metadata": {},
   "outputs": [],
   "source": []
  },
  {
   "cell_type": "code",
   "execution_count": 89,
   "metadata": {},
   "outputs": [],
   "source": [
    "Y_train_predicted = knn.predict(X_train_) # note that we are predicting the outcome for the training set"
   ]
  },
  {
   "cell_type": "code",
   "execution_count": 90,
   "metadata": {},
   "outputs": [
    {
     "name": "stdout",
     "output_type": "stream",
     "text": [
      "Training Classification accuracy: 0.8693877551020408\n",
      "\n",
      "\n",
      "Training Confusion matrix: \n",
      "[[163   0]\n",
      " [ 32  50]]\n",
      "\n",
      "\n",
      "Training Classification Report:\n",
      "               precision    recall  f1-score   support\n",
      "\n",
      "           0       0.84      1.00      0.91       163\n",
      "           1       1.00      0.61      0.76        82\n",
      "\n",
      "    accuracy                           0.87       245\n",
      "   macro avg       0.92      0.80      0.83       245\n",
      "weighted avg       0.89      0.87      0.86       245\n",
      "\n"
     ]
    }
   ],
   "source": [
    "print(\"Training Classification accuracy:\", knn.score(X_train_, Y_train_))\n",
    "print(\"\\n\")\n",
    "print (\"Training Confusion matrix: \\n\" + str(confusion_matrix(Y_train_, Y_train_predicted)))\n",
    "print(\"\\n\")\n",
    "print(\"Training Classification Report:\\n\",classification_report(Y_train_, Y_train_predicted))"
   ]
  },
  {
   "cell_type": "code",
   "execution_count": 91,
   "metadata": {},
   "outputs": [
    {
     "name": "stdout",
     "output_type": "stream",
     "text": [
      "************K-NEAREST NEIGHBOR************\n",
      "Test Classification accuracy: 0.6856368563685636\n",
      "\n",
      "\n",
      "Test Confusion matrix: \n",
      "[[217  21]\n",
      " [ 95  36]]\n",
      "\n",
      "\n",
      "Test Classification Report:\n",
      "               precision    recall  f1-score   support\n",
      "\n",
      "           0       0.70      0.91      0.79       238\n",
      "           1       0.63      0.27      0.38       131\n",
      "\n",
      "    accuracy                           0.69       369\n",
      "   macro avg       0.66      0.59      0.59       369\n",
      "weighted avg       0.67      0.69      0.64       369\n",
      "\n"
     ]
    }
   ],
   "source": [
    "#predicting the outcome for the test set\n",
    "Y_test_predicted = knn.predict(X_test_)\n",
    "conf_matrix_knn = confusion_matrix(Y_test_, Y_test_predicted)\n",
    "print('************K-NEAREST NEIGHBOR************')\n",
    "print(\"Test Classification accuracy:\", knn.score(X_test_,Y_test_))\n",
    "print(\"\\n\")\n",
    "print (\"Test Confusion matrix: \\n\" + str(conf_matrix_knn))\n",
    "print(\"\\n\")\n",
    "print(\"Test Classification Report:\\n\",classification_report(Y_test_, Y_test_predicted))"
   ]
  },
  {
   "cell_type": "code",
   "execution_count": 92,
   "metadata": {},
   "outputs": [],
   "source": [
    "from sklearn.metrics import plot_confusion_matrix"
   ]
  },
  {
   "cell_type": "code",
   "execution_count": 93,
   "metadata": {},
   "outputs": [
    {
     "name": "stdout",
     "output_type": "stream",
     "text": [
      "[[217  21]\n",
      " [ 95  36]]\n"
     ]
    },
    {
     "data": {
      "image/png": "[encoded data removed]",
      "text/plain": [
       "<Figure size 432x288 with 2 Axes>"
      ]
     },
     "metadata": {
      "needs_background": "light"
     },
     "output_type": "display_data"
    }
   ],
   "source": [
    "disp = plot_confusion_matrix(knn, X_test_, Y_test_,\n",
    "                                 display_labels=['No Diabetes','Diabetes'],\n",
    "                                 cmap=plt.cm.RdPu,\n",
    "                                 normalize=None)\n",
    "print(disp.confusion_matrix)"
   ]
  },
  {
   "cell_type": "code",
   "execution_count": null,
   "metadata": {},
   "outputs": [],
   "source": []
  },
  {
   "cell_type": "code",
   "execution_count": 94,
   "metadata": {},
   "outputs": [],
   "source": [
    "from sklearn.metrics import plot_roc_curve, roc_auc_score"
   ]
  },
  {
   "cell_type": "code",
   "execution_count": 95,
   "metadata": {},
   "outputs": [
    {
     "name": "stdout",
     "output_type": "stream",
     "text": [
      "Area under the ROC: 0.6919622810956444\n"
     ]
    },
    {
     "data": {
      "image/png": "[encoded data removed]",
      "text/plain": [
       "<Figure size 432x288 with 1 Axes>"
      ]
     },
     "metadata": {
      "needs_background": "light"
     },
     "output_type": "display_data"
    }
   ],
   "source": [
    "viz = plot_roc_curve(knn, X_test_, Y_test_)\n",
    "print('Area under the ROC:', viz.roc_auc)   \n",
    "plt.plot([0, 1], [0, 1])\n",
    "plt.xlim([0.0, 1.0]) \n",
    "plt.ylim([0.0, 1.0])\n",
    "plt.show();"
   ]
  },
  {
   "cell_type": "code",
   "execution_count": null,
   "metadata": {},
   "outputs": [],
   "source": []
  },
  {
   "cell_type": "code",
   "execution_count": 96,
   "metadata": {},
   "outputs": [
    {
     "data": {
      "text/html": [
       "<div>\n",
       "<style scoped>\n",
       "    .dataframe tbody tr th:only-of-type {\n",
       "        vertical-align: middle;\n",
       "    }\n",
       "\n",
       "    .dataframe tbody tr th {\n",
       "        vertical-align: top;\n",
       "    }\n",
       "\n",
       "    .dataframe thead th {\n",
       "        text-align: right;\n",
       "    }\n",
       "</style>\n",
       "<table border=\"1\" class=\"dataframe\">\n",
       "  <thead>\n",
       "    <tr style=\"text-align: right;\">\n",
       "      <th></th>\n",
       "      <th></th>\n",
       "      <th>accuracy</th>\n",
       "      <th>F1</th>\n",
       "      <th>ROC_area</th>\n",
       "    </tr>\n",
       "    <tr>\n",
       "      <th>neighbors</th>\n",
       "      <th>weight</th>\n",
       "      <th></th>\n",
       "      <th></th>\n",
       "      <th></th>\n",
       "    </tr>\n",
       "  </thead>\n",
       "  <tbody>\n",
       "    <tr>\n",
       "      <th rowspan=\"2\" valign=\"top\">1</th>\n",
       "      <th>uniform</th>\n",
       "      <td>0.674797</td>\n",
       "      <td>0.671690</td>\n",
       "      <td>0.636362</td>\n",
       "    </tr>\n",
       "    <tr>\n",
       "      <th>distance</th>\n",
       "      <td>0.674797</td>\n",
       "      <td>0.671690</td>\n",
       "      <td>0.636362</td>\n",
       "    </tr>\n",
       "    <tr>\n",
       "      <th rowspan=\"2\" valign=\"top\">2</th>\n",
       "      <th>uniform</th>\n",
       "      <td>0.685637</td>\n",
       "      <td>0.644916</td>\n",
       "      <td>0.691962</td>\n",
       "    </tr>\n",
       "    <tr>\n",
       "      <th>distance</th>\n",
       "      <td>0.674797</td>\n",
       "      <td>0.671690</td>\n",
       "      <td>0.687119</td>\n",
       "    </tr>\n",
       "    <tr>\n",
       "      <th rowspan=\"2\" valign=\"top\">3</th>\n",
       "      <th>uniform</th>\n",
       "      <td>0.693767</td>\n",
       "      <td>0.689146</td>\n",
       "      <td>0.721470</td>\n",
       "    </tr>\n",
       "    <tr>\n",
       "      <th>distance</th>\n",
       "      <td>0.682927</td>\n",
       "      <td>0.678864</td>\n",
       "      <td>0.718070</td>\n",
       "    </tr>\n",
       "    <tr>\n",
       "      <th rowspan=\"2\" valign=\"top\">4</th>\n",
       "      <th>uniform</th>\n",
       "      <td>0.688347</td>\n",
       "      <td>0.660242</td>\n",
       "      <td>0.725287</td>\n",
       "    </tr>\n",
       "    <tr>\n",
       "      <th>distance</th>\n",
       "      <td>0.693767</td>\n",
       "      <td>0.687672</td>\n",
       "      <td>0.725945</td>\n",
       "    </tr>\n",
       "    <tr>\n",
       "      <th rowspan=\"2\" valign=\"top\">5</th>\n",
       "      <th>uniform</th>\n",
       "      <td>0.688347</td>\n",
       "      <td>0.682908</td>\n",
       "      <td>0.726137</td>\n",
       "    </tr>\n",
       "    <tr>\n",
       "      <th>distance</th>\n",
       "      <td>0.677507</td>\n",
       "      <td>0.671878</td>\n",
       "      <td>0.729890</td>\n",
       "    </tr>\n",
       "  </tbody>\n",
       "</table>\n",
       "</div>"
      ],
      "text/plain": [
       "                    accuracy        F1  ROC_area\n",
       "neighbors weight                                \n",
       "1         uniform   0.674797  0.671690  0.636362\n",
       "          distance  0.674797  0.671690  0.636362\n",
       "2         uniform   0.685637  0.644916  0.691962\n",
       "          distance  0.674797  0.671690  0.687119\n",
       "3         uniform   0.693767  0.689146  0.721470\n",
       "          distance  0.682927  0.678864  0.718070\n",
       "4         uniform   0.688347  0.660242  0.725287\n",
       "          distance  0.693767  0.687672  0.725945\n",
       "5         uniform   0.688347  0.682908  0.726137\n",
       "          distance  0.677507  0.671878  0.729890"
      ]
     },
     "execution_count": 96,
     "metadata": {},
     "output_type": "execute_result"
    }
   ],
   "source": [
    "df_knn = pd.DataFrame(columns= ['neighbors','weight', 'accuracy', 'F1', 'ROC_area'])\n",
    "\n",
    "for neighbor_count in range (1,6):\n",
    "    for weight_metric in ['uniform', 'distance']:    \n",
    "        knn_ht = KNeighborsClassifier(n_neighbors=neighbor_count, weights=weight_metric) # initialize a KNN classifier\n",
    "        knn_ht.fit(X_train_, Y_train_)\n",
    "\n",
    "        Y_pred_prob_ht = knn_ht.predict_proba(X_test_)[:, 1]\n",
    "       \n",
    "        accuracy = knn_ht.score(X_test_,Y_test_)\n",
    "        f1 = f1_score(Y_test_,knn_ht.predict(X_test_),average='weighted')\n",
    "        roc = roc_auc_score(Y_test_, Y_pred_prob_ht)       \n",
    "        \n",
    "        dict_values = {'neighbors': neighbor_count, 'weight': weight_metric,'accuracy':accuracy,'F1' : f1, 'ROC_area':roc}\n",
    "        row_to_add = pd.Series(dict_values)\n",
    "        \n",
    "        df_knn = df_knn.append(row_to_add, ignore_index=True)\n",
    "\n",
    "df_knn.set_index(['neighbors','weight'], inplace=True)\n",
    "df_knn"
   ]
  },
  {
   "cell_type": "code",
   "execution_count": 97,
   "metadata": {},
   "outputs": [
    {
     "data": {
      "image/png": "[encoded data removed]",
      "text/plain": [
       "<Figure size 504x324 with 1 Axes>"
      ]
     },
     "metadata": {
      "needs_background": "light"
     },
     "output_type": "display_data"
    }
   ],
   "source": [
    "df_knn.plot(figsize = (7,4.5));"
   ]
  },
  {
   "cell_type": "code",
   "execution_count": null,
   "metadata": {},
   "outputs": [],
   "source": [
    "# Looking at the graph above for the valaduation data set 3, uniform looks like the best model when it comes to accuracy\n",
    "# and F1. It has a smaller ROC area compared to 4, uniform and 5, uniform but has a higher accuracy and F1. I will be \n",
    "# selecting 3, uniform.\n"
   ]
  },
  {
   "cell_type": "code",
   "execution_count": null,
   "metadata": {},
   "outputs": [],
   "source": [
    "# This is testing the original training set"
   ]
  },
  {
   "cell_type": "code",
   "execution_count": 98,
   "metadata": {},
   "outputs": [
    {
     "data": {
      "text/html": [
       "<div>\n",
       "<style scoped>\n",
       "    .dataframe tbody tr th:only-of-type {\n",
       "        vertical-align: middle;\n",
       "    }\n",
       "\n",
       "    .dataframe tbody tr th {\n",
       "        vertical-align: top;\n",
       "    }\n",
       "\n",
       "    .dataframe thead th {\n",
       "        text-align: right;\n",
       "    }\n",
       "</style>\n",
       "<table border=\"1\" class=\"dataframe\">\n",
       "  <thead>\n",
       "    <tr style=\"text-align: right;\">\n",
       "      <th></th>\n",
       "      <th></th>\n",
       "      <th>accuracy</th>\n",
       "      <th>F1</th>\n",
       "      <th>ROC_area</th>\n",
       "    </tr>\n",
       "    <tr>\n",
       "      <th>neighbors</th>\n",
       "      <th>weight</th>\n",
       "      <th></th>\n",
       "      <th></th>\n",
       "      <th></th>\n",
       "    </tr>\n",
       "  </thead>\n",
       "  <tbody>\n",
       "    <tr>\n",
       "      <th rowspan=\"2\" valign=\"top\">1</th>\n",
       "      <th>uniform</th>\n",
       "      <td>0.675325</td>\n",
       "      <td>0.679495</td>\n",
       "      <td>0.662626</td>\n",
       "    </tr>\n",
       "    <tr>\n",
       "      <th>distance</th>\n",
       "      <td>0.675325</td>\n",
       "      <td>0.679495</td>\n",
       "      <td>0.662626</td>\n",
       "    </tr>\n",
       "    <tr>\n",
       "      <th rowspan=\"2\" valign=\"top\">2</th>\n",
       "      <th>uniform</th>\n",
       "      <td>0.701299</td>\n",
       "      <td>0.675765</td>\n",
       "      <td>0.698072</td>\n",
       "    </tr>\n",
       "    <tr>\n",
       "      <th>distance</th>\n",
       "      <td>0.675325</td>\n",
       "      <td>0.679495</td>\n",
       "      <td>0.702847</td>\n",
       "    </tr>\n",
       "    <tr>\n",
       "      <th rowspan=\"2\" valign=\"top\">3</th>\n",
       "      <th>uniform</th>\n",
       "      <td>0.649351</td>\n",
       "      <td>0.655805</td>\n",
       "      <td>0.700735</td>\n",
       "    </tr>\n",
       "    <tr>\n",
       "      <th>distance</th>\n",
       "      <td>0.662338</td>\n",
       "      <td>0.668052</td>\n",
       "      <td>0.707989</td>\n",
       "    </tr>\n",
       "    <tr>\n",
       "      <th rowspan=\"2\" valign=\"top\">4</th>\n",
       "      <th>uniform</th>\n",
       "      <td>0.707792</td>\n",
       "      <td>0.699248</td>\n",
       "      <td>0.710836</td>\n",
       "    </tr>\n",
       "    <tr>\n",
       "      <th>distance</th>\n",
       "      <td>0.688312</td>\n",
       "      <td>0.691502</td>\n",
       "      <td>0.721947</td>\n",
       "    </tr>\n",
       "    <tr>\n",
       "      <th rowspan=\"2\" valign=\"top\">5</th>\n",
       "      <th>uniform</th>\n",
       "      <td>0.662338</td>\n",
       "      <td>0.665794</td>\n",
       "      <td>0.720110</td>\n",
       "    </tr>\n",
       "    <tr>\n",
       "      <th>distance</th>\n",
       "      <td>0.668831</td>\n",
       "      <td>0.671741</td>\n",
       "      <td>0.729568</td>\n",
       "    </tr>\n",
       "  </tbody>\n",
       "</table>\n",
       "</div>"
      ],
      "text/plain": [
       "                    accuracy        F1  ROC_area\n",
       "neighbors weight                                \n",
       "1         uniform   0.675325  0.679495  0.662626\n",
       "          distance  0.675325  0.679495  0.662626\n",
       "2         uniform   0.701299  0.675765  0.698072\n",
       "          distance  0.675325  0.679495  0.702847\n",
       "3         uniform   0.649351  0.655805  0.700735\n",
       "          distance  0.662338  0.668052  0.707989\n",
       "4         uniform   0.707792  0.699248  0.710836\n",
       "          distance  0.688312  0.691502  0.721947\n",
       "5         uniform   0.662338  0.665794  0.720110\n",
       "          distance  0.668831  0.671741  0.729568"
      ]
     },
     "execution_count": 98,
     "metadata": {},
     "output_type": "execute_result"
    }
   ],
   "source": [
    "df_knn = pd.DataFrame(columns= ['neighbors','weight', 'accuracy', 'F1', 'ROC_area'])\n",
    "for neighbor_count in range (1,6):\n",
    "    for weight_metric in ['uniform', 'distance']:    \n",
    "        knn_ht = KNeighborsClassifier(n_neighbors=neighbor_count, weights=weight_metric) # initialize a KNN classifier\n",
    "        knn_ht.fit(X_train, Y_train)\n",
    "\n",
    "        Y_pred_prob_ht = knn_ht.predict_proba(X_test)[:, 1]\n",
    "       \n",
    "        accuracy = knn_ht.score(X_test,Y_test)\n",
    "        f1 = f1_score(Y_test,knn_ht.predict(X_test),average='weighted')\n",
    "        roc = roc_auc_score(Y_test, Y_pred_prob_ht)       \n",
    "        \n",
    "        dict_values = {'neighbors': neighbor_count, 'weight': weight_metric,'accuracy':accuracy,'F1' : f1, 'ROC_area':roc}\n",
    "        row_to_add = pd.Series(dict_values)\n",
    "        \n",
    "        df_knn = df_knn.append(row_to_add, ignore_index=True)\n",
    "\n",
    "df_knn.set_index(['neighbors','weight'], inplace=True)\n",
    "df_knn"
   ]
  },
  {
   "cell_type": "code",
   "execution_count": 99,
   "metadata": {},
   "outputs": [
    {
     "data": {
      "image/png": "[encoded data removed]",
      "text/plain": [
       "<Figure size 504x324 with 1 Axes>"
      ]
     },
     "metadata": {
      "needs_background": "light"
     },
     "output_type": "display_data"
    }
   ],
   "source": [
    "df_knn.plot(figsize = (7,4.5));"
   ]
  },
  {
   "cell_type": "code",
   "execution_count": null,
   "metadata": {},
   "outputs": [],
   "source": [
    "# Compared to the validuation dataset 3, uniform could "
   ]
  },
  {
   "cell_type": "code",
   "execution_count": 82,
   "metadata": {},
   "outputs": [
    {
     "name": "stdout",
     "output_type": "stream",
     "text": [
      "Training Classification accuracy: 1.0\n",
      "\n",
      "\n",
      "Training Confusion matrix: \n",
      "[[163   0]\n",
      " [  0  82]]\n",
      "\n",
      "\n",
      "Training Classification Report:\n",
      "               precision    recall  f1-score   support\n",
      "\n",
      "           0       1.00      1.00      1.00       163\n",
      "           1       1.00      1.00      1.00        82\n",
      "\n",
      "    accuracy                           1.00       245\n",
      "   macro avg       1.00      1.00      1.00       245\n",
      "weighted avg       1.00      1.00      1.00       245\n",
      "\n",
      "************K-NEAREST NEIGHBOR************\n",
      "Test Classification accuracy: 0.6747967479674797\n",
      "\n",
      "\n",
      "Test Confusion matrix: \n",
      "[[183  55]\n",
      " [ 65  66]]\n",
      "\n",
      "\n",
      "Test Classification Report:\n",
      "               precision    recall  f1-score   support\n",
      "\n",
      "           0       0.74      0.77      0.75       238\n",
      "           1       0.55      0.50      0.52       131\n",
      "\n",
      "    accuracy                           0.67       369\n",
      "   macro avg       0.64      0.64      0.64       369\n",
      "weighted avg       0.67      0.67      0.67       369\n",
      "\n"
     ]
    }
   ],
   "source": [
    "from sklearn.neighbors import KNeighborsClassifier\n",
    "\n",
    "knn = KNeighborsClassifier(n_neighbors=1, weights='uniform') # initialize a KNN classifier\n",
    "knn.fit(X_train_, Y_train_) # train classifer with training set\n",
    "\n",
    "Y_train_predicted = knn.predict(X_train_) # note that we are predicting the outcome for the training set\n",
    "\n",
    "print(\"Training Classification accuracy:\", knn.score(X_train_, Y_train_))\n",
    "print(\"\\n\")\n",
    "print (\"Training Confusion matrix: \\n\" + str(confusion_matrix(Y_train_, Y_train_predicted)))\n",
    "print(\"\\n\")\n",
    "print(\"Training Classification Report:\\n\",classification_report(Y_train_, Y_train_predicted))\n",
    "\n",
    "#predicting the outcome for the test set\n",
    "Y_test_predicted = knn.predict(X_test_)\n",
    "conf_matrix_knn = confusion_matrix(Y_test_, Y_test_predicted)\n",
    "print('************K-NEAREST NEIGHBOR************')\n",
    "print(\"Test Classification accuracy:\", knn.score(X_test_,Y_test_))\n",
    "print(\"\\n\")\n",
    "print (\"Test Confusion matrix: \\n\" + str(conf_matrix_knn))\n",
    "print(\"\\n\")\n",
    "print(\"Test Classification Report:\\n\",classification_report(Y_test_, Y_test_predicted))\n"
   ]
  },
  {
   "cell_type": "code",
   "execution_count": 83,
   "metadata": {},
   "outputs": [
    {
     "name": "stdout",
     "output_type": "stream",
     "text": [
      "Training Classification accuracy: 1.0\n",
      "\n",
      "\n",
      "Training Confusion matrix: \n",
      "[[163   0]\n",
      " [  0  82]]\n",
      "\n",
      "\n",
      "Training Classification Report:\n",
      "               precision    recall  f1-score   support\n",
      "\n",
      "           0       1.00      1.00      1.00       163\n",
      "           1       1.00      1.00      1.00        82\n",
      "\n",
      "    accuracy                           1.00       245\n",
      "   macro avg       1.00      1.00      1.00       245\n",
      "weighted avg       1.00      1.00      1.00       245\n",
      "\n",
      "************K-NEAREST NEIGHBOR************\n",
      "Test Classification accuracy: 0.6747967479674797\n",
      "\n",
      "\n",
      "Test Confusion matrix: \n",
      "[[183  55]\n",
      " [ 65  66]]\n",
      "\n",
      "\n",
      "Test Classification Report:\n",
      "               precision    recall  f1-score   support\n",
      "\n",
      "           0       0.74      0.77      0.75       238\n",
      "           1       0.55      0.50      0.52       131\n",
      "\n",
      "    accuracy                           0.67       369\n",
      "   macro avg       0.64      0.64      0.64       369\n",
      "weighted avg       0.67      0.67      0.67       369\n",
      "\n"
     ]
    }
   ],
   "source": [
    "from sklearn.neighbors import KNeighborsClassifier\n",
    "\n",
    "knn = KNeighborsClassifier(n_neighbors=1, weights='distance') # initialize a KNN classifier\n",
    "knn.fit(X_train_, Y_train_) # train classifer with training set\n",
    "\n",
    "Y_train_predicted = knn.predict(X_train_) # note that we are predicting the outcome for the training set\n",
    "\n",
    "print(\"Training Classification accuracy:\", knn.score(X_train_, Y_train_))\n",
    "print(\"\\n\")\n",
    "print (\"Training Confusion matrix: \\n\" + str(confusion_matrix(Y_train_, Y_train_predicted)))\n",
    "print(\"\\n\")\n",
    "print(\"Training Classification Report:\\n\",classification_report(Y_train_, Y_train_predicted))\n",
    "\n",
    "#predicting the outcome for the test set\n",
    "Y_test_predicted = knn.predict(X_test_)\n",
    "conf_matrix_knn = confusion_matrix(Y_test_, Y_test_predicted)\n",
    "print('************K-NEAREST NEIGHBOR************')\n",
    "print(\"Test Classification accuracy:\", knn.score(X_test_,Y_test_))\n",
    "print(\"\\n\")\n",
    "print (\"Test Confusion matrix: \\n\" + str(conf_matrix_knn))\n",
    "print(\"\\n\")\n",
    "print(\"Test Classification Report:\\n\",classification_report(Y_test_, Y_test_predicted))\n"
   ]
  }
 ],
 "metadata": {
  "kernelspec": {
   "display_name": "Python 3",
   "language": "python",
   "name": "python3"
  },
  "language_info": {
   "codemirror_mode": {
    "name": "ipython",
    "version": 3
   },
   "file_extension": ".py",
   "mimetype": "text/x-python",
   "name": "python",
   "nbconvert_exporter": "python",
   "pygments_lexer": "ipython3",
   "version": "3.8.5"
  }
 },
 "nbformat": 4,
 "nbformat_minor": 4
}
