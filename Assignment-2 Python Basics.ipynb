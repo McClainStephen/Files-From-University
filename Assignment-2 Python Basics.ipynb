{
 "cells": [
  {
   "cell_type": "markdown",
   "metadata": {},
   "source": [
    "### BMIS-2542: Data Programming Essentials with Python \n",
    "##### Katz Graduate School of Business, Spring 2021\n",
    "\n",
    "\n",
    "## Assignment 2\n"
   ]
  },
  {
   "cell_type": "markdown",
   "metadata": {},
   "source": [
    "#### Q1:\n",
    "(a) Define the boolean variable `raining` that indicates a rainy day. Use this variable to print `Stay indoors!` if it is a rainy day, and to print `Go outside and play!` if it is not."
   ]
  },
  {
   "cell_type": "code",
   "execution_count": 3,
   "metadata": {},
   "outputs": [
    {
     "name": "stdout",
     "output_type": "stream",
     "text": [
      "Stay indoors!\n"
     ]
    }
   ],
   "source": [
    "x = \"raining\"\n",
    "\n",
    "if x == \"raining\":\n",
    "    print(\"Stay indoors!\")\n",
    "else:\n",
    "    print(\"Go outside\")"
   ]
  },
  {
   "cell_type": "markdown",
   "metadata": {},
   "source": [
    "(b) Define a new boolean variable `has_umbrella` that indicates whether you have an umbrella. Modify your solution in (a) to append the additional condition about possession of an umbrella."
   ]
  },
  {
   "cell_type": "code",
   "execution_count": 15,
   "metadata": {},
   "outputs": [
    {
     "name": "stdout",
     "output_type": "stream",
     "text": [
      "Do you have an umbrella? (Y/N) Y\n",
      "Go outside\n"
     ]
    }
   ],
   "source": [
    "x = \"raining\"\n",
    "has_umbrella = input(\"Do you have an umbrella? (Y/N) \")\n",
    "\n",
    "if has_umbrella == \"Y\":\n",
    "        print(\"Go outside\")\n",
    "else:      \n",
    "    if x == \"raining\":\n",
    "        print(\"Stay indoors!\") \n",
    "    else:\n",
    "        print(\"Go outside\")\n"
   ]
  },
  {
   "cell_type": "markdown",
   "metadata": {},
   "source": [
    "#### Q2:\n",
    "The month of February normally has 28 days. But if it is a leap year, February has 29 days. Write a program that asks the user to enter a year. The program should then display the number of days in February that year. Use the following criteria to identify leap years:\n",
    " 1. Determine whether the year is devisible by 100. If it is, then it is a leap year if and only if it is also devisible by 400. For example, `2000` is a leap year, but `2100` is not.\n",
    " 2. If the year is not devisible by 100, then it is a leap year if and only if it is divisible by 4. For example, `2008` is a leap year, but `2009` is not."
   ]
  },
  {
   "cell_type": "code",
   "execution_count": 226,
   "metadata": {},
   "outputs": [
    {
     "name": "stdout",
     "output_type": "stream",
     "text": [
      "Please enter a year. 2008\n",
      "Leap year\n"
     ]
    }
   ],
   "source": [
    "x = int(input(\"Please enter a year. \"))\n",
    "y = 0\n",
    "\n",
    "if x % 400 == 0:   \n",
    "    y = 1\n",
    "else:\n",
    "    if x % 100 == 0:\n",
    "        y = 0\n",
    "    else:\n",
    "        if x % 4 == 0:\n",
    "            y = 1\n",
    "        else:\n",
    "            y = 0\n",
    "            \n",
    "if y == 1:\n",
    "    print(\"Leap year\")\n",
    "if y == 0:\n",
    "    print(\"Not a leap year\")"
   ]
  },
  {
   "cell_type": "markdown",
   "metadata": {},
   "source": [
    "#### Q3\n",
    "It is said that one can lose 4 pounds a month if the total calorie intake in a day is reduced by about 500 calories (equivalent of about 5 bananas). Write a program that prompts a user to enter their current weight. The program should, then, show what the user's expected weight will be at the end of each month for the next one year if the user plans to reduce their calorie intake by 500 calories a day."
   ]
  },
  {
   "cell_type": "code",
   "execution_count": null,
   "metadata": {},
   "outputs": [],
   "source": []
  },
  {
   "cell_type": "code",
   "execution_count": 31,
   "metadata": {},
   "outputs": [
    {
     "name": "stdout",
     "output_type": "stream",
     "text": [
      "Please input your current weight. 175\n",
      "Your weight after month 0 is 171.0\n",
      "Your weight after month 1 is 167.0\n",
      "Your weight after month 2 is 163.0\n",
      "Your weight after month 3 is 159.0\n",
      "Your weight after month 4 is 155.0\n",
      "Your weight after month 5 is 151.0\n",
      "Your weight after month 6 is 147.0\n",
      "Your weight after month 7 is 143.0\n",
      "Your weight after month 8 is 139.0\n",
      "Your weight after month 9 is 135.0\n",
      "Your weight after month 10 is 131.0\n",
      "Your weight after month 11 is 127.0\n",
      "Your weight after month 12 is 123.0\n"
     ]
    }
   ],
   "source": [
    "w = float(input(\"Please input your current weight. \"))\n",
    "month = 0\n",
    "\n",
    "while month != 13:\n",
    "    w = w - 4\n",
    "    print('Your weight after month', month, \"is\", w)\n",
    "    month = month + 1\n"
   ]
  },
  {
   "cell_type": "markdown",
   "metadata": {},
   "source": [
    "#### Q4:\n",
    "Write a program that asks the user for a number in the range of 1 through 7. The program should display the corresponding day of the week, where `1 = Monday, 2 = Tuesday, 3 = Wednesday, 4 = Thursday, 5 = Friday, 6 = Saturday, and 7=Sunday`. \n",
    "The program should display an error message if the user enters a number that is outside the range of 1 through 7. <br>"
   ]
  },
  {
   "cell_type": "code",
   "execution_count": 47,
   "metadata": {},
   "outputs": [
    {
     "name": "stdout",
     "output_type": "stream",
     "text": [
      "Please enter an integer from 1 to 7. 8\n",
      "Error: Please enter an integer from 1 to 7. \n"
     ]
    }
   ],
   "source": [
    "x = int(input(\"Please enter an integer from 1 to 7. \"))\n",
    "\n",
    "if x == 1:\n",
    "    print('Monday')\n",
    "elif x == 2:\n",
    "    print('Tuesday')\n",
    "elif x == 3:\n",
    "    print('Wednesday')\n",
    "elif x == 4:\n",
    "    print ('Thursday')\n",
    "elif x == 5:\n",
    "    print ('Friday')\n",
    "elif x == 6:\n",
    "    print ('Saturday')\n",
    "elif x == 7:\n",
    "    print ('Sunday')\n",
    "else:\n",
    "    print ('Error: Please enter an integer from 1 to 7. ')"
   ]
  },
  {
   "cell_type": "markdown",
   "metadata": {},
   "source": [
    "#### Q5\n",
    "You are given a list of car names, that should be organized in a dictionary by their first letter. \n",
    "For example, given the list of cars: `'Audi', 'Aston Martin', 'Cadillac', 'Chevrolet', 'Jaguar', 'Jeep', 'Ferrari', 'Ford', 'Porsche'`, you need to generate the following output. <br><br>\n",
    "`\n",
    "{'A': ['Audi', 'Aston Martin'],\n",
    " 'C': ['Cadillac', 'Chevrolet'],\n",
    " 'J': ['Jaguar', 'Jeep'],\n",
    " 'F': ['Ferrari', 'Ford'],\n",
    " 'P': ['Porsche']}` <br><br>\n",
    "\n",
    " **Hint.** You can use `car[0]` to pick the first letter from the string `car`."
   ]
  },
  {
   "cell_type": "code",
   "execution_count": 247,
   "metadata": {},
   "outputs": [
    {
     "name": "stdout",
     "output_type": "stream",
     "text": [
      "{'A': ['Audi', 'Aston Martin'], 'C': ['Cadillac', 'Chevrolet'], 'J': ['Jaguar', 'Jeep'], 'F': ['Ferrari', 'Ford'], 'P': ['Porche']}\n"
     ]
    }
   ],
   "source": [
    "cardict = {}\n",
    "\n",
    "cars = [\"Audi\", 'Aston Martin', 'Cadillac', 'Chevrolet', 'Jaguar', 'Jeep', 'Ferrari', 'Ford', 'Porche']\n",
    "\n",
    "for car in cars:\n",
    "    if not (str(car[0]) in cardict):\n",
    "        cardict[str(car[0])] = []\n",
    "    cardict[str(car[0])].append(car)\n",
    "\n",
    "print(cardict)       \n",
    "        \n",
    "# dict ={ \n",
    "#     \"A\":[\"Audi\", 'Aston Martin'], \n",
    "#     \"C\":['Cadillac', 'Chevrolet'], \n",
    "#     \"J\":['Jaguar', 'Jeep'], \n",
    "#     \"F\":['Ferrari', 'Ford'] ,\n",
    "#     \"P\":['Porche']\n",
    "# } \n",
    "\n",
    "# print(dict)"
   ]
  },
  {
   "cell_type": "code",
   "execution_count": 60,
   "metadata": {},
   "outputs": [],
   "source": []
  },
  {
   "cell_type": "code",
   "execution_count": null,
   "metadata": {},
   "outputs": [],
   "source": []
  }
 ],
 "metadata": {
  "kernelspec": {
   "display_name": "Python 3",
   "language": "python",
   "name": "python3"
  },
  "language_info": {
   "codemirror_mode": {
    "name": "ipython",
    "version": 3
   },
   "file_extension": ".py",
   "mimetype": "text/x-python",
   "name": "python",
   "nbconvert_exporter": "python",
   "pygments_lexer": "ipython3",
   "version": "3.8.5"
  }
 },
 "nbformat": 4,
 "nbformat_minor": 2
}
