{
 "cells": [
  {
   "cell_type": "markdown",
   "metadata": {},
   "source": [
    "\n",
    "# BMIS-2542: Data Programming Essentials with Python \n",
    "##### Katz Graduate School of Business, Spring 2021\n",
    "\n",
    "\n",
    "## Session-2: Flow Control and Functions\n",
    "***"
   ]
  },
  {
   "cell_type": "markdown",
   "metadata": {},
   "source": [
    "## Flow Control\n",
    "We discussed the basics of individual instructions and how a series of individual instructions can form a program. Programming is not about just running one instruction after the other. Based on how the expressions evaluate, we can write programs that can decide to skip instructions, repeat them, or choose a set of instructions to run. Flow control statements can help us to do this."
   ]
  },
  {
   "cell_type": "markdown",
   "metadata": {},
   "source": [
    "A flow control statement usually starts with a **condition**, followed by a block of code called the **clause**. \n",
    "\n",
    "#### Conditions\n",
    "Conditions are essentially boolean expressions that evaluate to `True` or `False`.\n",
    "A flow control statement decides what to do based on whether its condition is `True` or `False`."
   ]
  },
  {
   "cell_type": "code",
   "execution_count": 1,
   "metadata": {},
   "outputs": [
    {
     "data": {
      "text/plain": [
       "True"
      ]
     },
     "execution_count": 1,
     "metadata": {},
     "output_type": "execute_result"
    }
   ],
   "source": [
    "x = 5\n",
    "x > 0 # this is the boolean expression"
   ]
  },
  {
   "cell_type": "markdown",
   "metadata": {},
   "source": [
    "#### Blocks of Code\n",
    "A block of code is essentially a group of Python statements. By looking at the indentation, we can recognize where a code block begins and ends. Here are some rules for blocks.\n",
    "\n",
    "- Blocks begin when the indentation increases.\n",
    "- Blocks can contain other blocks.\n",
    "- Blocks end when the indentation decreases to zero or to a containing block’s indentation."
   ]
  },
  {
   "cell_type": "code",
   "execution_count": 11,
   "metadata": {},
   "outputs": [
    {
     "name": "stdout",
     "output_type": "stream",
     "text": [
      "Hello Scully\n",
      "Access granted to X-Files.\n"
     ]
    }
   ],
   "source": [
    "name = 'Scully'\n",
    "password = 'TrustNo1'\n",
    "\n",
    "if name == 'Mulder' or name == 'Scully':\n",
    "    print('Hello', name) # block 1\n",
    "    if password == 'TrustNo1':\n",
    "        print('Access granted to X-Files.') # block 2\n",
    "    else:\n",
    "        print('Access Denied!!') # block 3"
   ]
  },
  {
   "cell_type": "markdown",
   "metadata": {},
   "source": [
    "### `if` Statement\n",
    "\n",
    "- An if statement’s clause (i.e.,the block following the if statement) will execute if the statement’s condition is `True`. \n",
    "  The clause is skipped if the condition is `False`.\n",
    "- It can be optionally followed by one or more `elif` blocks and a catch-all `else` block if all the previous conditions are `False`.\n",
    "- If any of the conditions is `True`, no further `elif` or `else` blocks will be reached.\n",
    "\n",
    "**Example 1** (`if` and `else`):<br>\n",
    "Let's write a program that checks if someone's name is Emily.<br>\n",
    "The program should print `Hi Emily!`, if the given name is 'Emily' and `'You are not Emily!`, if it is not\n",
    "(pretend that `name` was assigned some value earlier)."
   ]
  },
  {
   "cell_type": "code",
   "execution_count": 13,
   "metadata": {},
   "outputs": [
    {
     "name": "stdout",
     "output_type": "stream",
     "text": [
      "Hi Emily!\n"
     ]
    }
   ],
   "source": [
    "name = 'Emily'\n",
    "\n",
    "if name == 'Emily':\n",
    "    print('Hi Emily!')\n",
    "else:\n",
    "    print('You are not Emily!')"
   ]
  },
  {
   "cell_type": "markdown",
   "metadata": {},
   "source": [
    "**`elif` statement**<br>\n",
    "The `elif` statement is an “else if” statement that always follows an `if` or another `elif` statement. <br>It provides another condition that is checked only if all of the previous conditions were `False`. \n",
    "\n",
    "**Example 2**:<br>\n",
    "Write a program that checks whether a given integer is negative, equals zero, or positive, and then prints the result. "
   ]
  },
  {
   "cell_type": "code",
   "execution_count": 6,
   "metadata": {},
   "outputs": [
    {
     "name": "stdout",
     "output_type": "stream",
     "text": [
      "x is negative\n"
     ]
    }
   ],
   "source": [
    "x = -6\n",
    "\n",
    "if x < 0:\n",
    "    print('x is negative')\n",
    "elif x == 0:\n",
    "    print('x equals 0')\n",
    "else:\n",
    "    print('x is positive')"
   ]
  },
  {
   "cell_type": "markdown",
   "metadata": {},
   "source": [
    "**Example 3** (Nested `if` Statements):"
   ]
  },
  {
   "cell_type": "code",
   "execution_count": 17,
   "metadata": {},
   "outputs": [
    {
     "name": "stdout",
     "output_type": "stream",
     "text": [
      "a is less than b\n"
     ]
    }
   ],
   "source": [
    "a = 5\n",
    "b = 7\n",
    "\n",
    "if a < b:\n",
    "    print('a is less than b') \n",
    "else:\n",
    "    if a == b:\n",
    "        print('a equals b')\n",
    "    else:\n",
    "        print('a is greater than b')"
   ]
  },
  {
   "cell_type": "markdown",
   "metadata": {},
   "source": [
    "### `while` Loops\n",
    "\n",
    "You can make a block of code execute over and over again with a `while` statement. <br>The code in a `while` clause will be executed as long as the `while` statement’s condition is `True`, or the loop is explicitly ended with a `break`.<br><br>\n",
    "In summary, `while` loop keeps looping while its condition is `True`."
   ]
  },
  {
   "cell_type": "markdown",
   "metadata": {},
   "source": [
    "**Example 1**<br>"
   ]
  },
  {
   "cell_type": "code",
   "execution_count": 18,
   "metadata": {
    "scrolled": false
   },
   "outputs": [
    {
     "name": "stdout",
     "output_type": "stream",
     "text": [
      "Hello 0\n",
      "Hello 1\n",
      "Hello 2\n",
      "Hello 3\n",
      "Hello 4\n"
     ]
    }
   ],
   "source": [
    "x = 0\n",
    "\n",
    "while x < 5:\n",
    "    print('Hello', x)\n",
    "    x = x + 1  "
   ]
  },
  {
   "cell_type": "markdown",
   "metadata": {},
   "source": [
    "We can use the `break` keyword to exit a `while` loop completely."
   ]
  },
  {
   "cell_type": "code",
   "execution_count": 19,
   "metadata": {
    "scrolled": true
   },
   "outputs": [
    {
     "name": "stdout",
     "output_type": "stream",
     "text": [
      "1\n",
      "2\n",
      "3\n"
     ]
    }
   ],
   "source": [
    "x = 0\n",
    "\n",
    "while x < 5:\n",
    "    x = x + 1\n",
    "    if x == 4:        \n",
    "        break # when x=4, program execution completely exits the while loop\n",
    "    print(x) "
   ]
  },
  {
   "cell_type": "markdown",
   "metadata": {},
   "source": [
    "We can use the `continue` keyword to advance the `while` loop to the next iteration, skipping the remainder of the code."
   ]
  },
  {
   "cell_type": "code",
   "execution_count": null,
   "metadata": {},
   "outputs": [],
   "source": [
    "x = 0\n",
    "\n",
    "while x < 5:\n",
    "    x = x + 1\n",
    "    if x == 4:\n",
    "        continue # when x = 4, the value of x will not be printed and the program execution returns to the while statement.\n",
    "    print(x) "
   ]
  },
  {
   "cell_type": "markdown",
   "metadata": {},
   "source": [
    "Beware of infinite (never ending) loops. This will occur if the conditionals are not coded properly.<br>\n",
    "If you are trapped in an infinite `while` loop you can press the `I` key twice to interrupt the kernel."
   ]
  },
  {
   "cell_type": "code",
   "execution_count": null,
   "metadata": {},
   "outputs": [],
   "source": [
    "while True: # a condition that is always True\n",
    "    print('Hello world!')"
   ]
  },
  {
   "cell_type": "markdown",
   "metadata": {},
   "source": [
    "### `for` Loops\n",
    "\n",
    "When you want to execute a block of code only a certain number of times, `for` loops can be used.<br>\n",
    "`for` loops can iterate over a collection or an iterator.<br><br>Syntax format:<br>\n",
    "\n",
    "`for value in collection:` <br>&nbsp;&nbsp;&nbsp;&nbsp;`do something with value`"
   ]
  },
  {
   "cell_type": "code",
   "execution_count": 22,
   "metadata": {},
   "outputs": [],
   "source": [
    "range?"
   ]
  },
  {
   "cell_type": "code",
   "execution_count": 20,
   "metadata": {},
   "outputs": [
    {
     "data": {
      "text/plain": [
       "[1, 3]"
      ]
     },
     "execution_count": 20,
     "metadata": {},
     "output_type": "execute_result"
    }
   ],
   "source": [
    "list(range(1,5,2))"
   ]
  },
  {
   "cell_type": "markdown",
   "metadata": {},
   "source": [
    "**Example 1**"
   ]
  },
  {
   "cell_type": "code",
   "execution_count": 21,
   "metadata": {},
   "outputs": [
    {
     "name": "stdout",
     "output_type": "stream",
     "text": [
      "Iteration 1\n",
      "Iteration 2\n",
      "Iteration 3\n",
      "Iteration 4\n"
     ]
    }
   ],
   "source": [
    "for i in range(1,5):\n",
    "    print('Iteration',i)"
   ]
  },
  {
   "cell_type": "markdown",
   "metadata": {},
   "source": [
    "**Example 2**"
   ]
  },
  {
   "cell_type": "code",
   "execution_count": 23,
   "metadata": {},
   "outputs": [
    {
     "name": "stdout",
     "output_type": "stream",
     "text": [
      "p\n",
      "y\n",
      "t\n",
      "h\n",
      "o\n",
      "n\n"
     ]
    }
   ],
   "source": [
    "word = 'python'\n",
    "\n",
    "for character in word:\n",
    "    print(character) "
   ]
  },
  {
   "cell_type": "markdown",
   "metadata": {},
   "source": [
    "You can use the `break` keyword to exit a `for` loop altogether (terminates the inner most `for` loop).<br>\n",
    "Use the `continue` keyword to advance to the next value of the for loop’s counter (i.e., next iteration), skipping the remainder of the code."
   ]
  },
  {
   "cell_type": "markdown",
   "metadata": {},
   "source": [
    "**Example 3**"
   ]
  },
  {
   "cell_type": "code",
   "execution_count": 24,
   "metadata": {},
   "outputs": [
    {
     "name": "stdout",
     "output_type": "stream",
     "text": [
      "apple\n",
      "banana\n"
     ]
    }
   ],
   "source": [
    "fruits = [\"apple\", \"banana\", \"cherry\", \"grapes\"] # This is a list (a sequence of values)\n",
    "for fruit in fruits: \n",
    "    if fruit == 'cherry':\n",
    "        break\n",
    "    print(fruit)"
   ]
  },
  {
   "cell_type": "markdown",
   "metadata": {},
   "source": [
    "**Example 4**"
   ]
  },
  {
   "cell_type": "code",
   "execution_count": 25,
   "metadata": {
    "scrolled": true
   },
   "outputs": [
    {
     "name": "stdout",
     "output_type": "stream",
     "text": [
      "apple\n",
      "banana\n",
      "grapes\n"
     ]
    }
   ],
   "source": [
    "fruits = [\"apple\", \"banana\", \"cherry\", \"grapes\"] # This is a list (a sequence of values)\n",
    "for f in fruits:\n",
    "    if f == \"cherry\":\n",
    "        continue\n",
    "    print(f)"
   ]
  },
  {
   "cell_type": "markdown",
   "metadata": {},
   "source": [
    "## Functions\n",
    "Functions are the most important method of code organization and reuse in Python. <br>\n",
    "When you want to repeat the same or similar code more than once, it is worthwhile to write a reusable function.<br>\n",
    "We can also define our own functions that accept arguments. <br>\n",
    "Functions are declared with the `def` keyword and returned from with the `return` keyword.\n",
    "\n",
    "**Example 1**"
   ]
  },
  {
   "cell_type": "code",
   "execution_count": 26,
   "metadata": {},
   "outputs": [],
   "source": [
    "def print_name(name):\n",
    "    print('Your Name is',name)"
   ]
  },
  {
   "cell_type": "code",
   "execution_count": 27,
   "metadata": {},
   "outputs": [
    {
     "name": "stdout",
     "output_type": "stream",
     "text": [
      "Your Name is Anne\n"
     ]
    }
   ],
   "source": [
    "# call the function passing arguments\n",
    "print_name('Anne')"
   ]
  },
  {
   "cell_type": "markdown",
   "metadata": {},
   "source": [
    "Functions can have positional arguments or keyword arguments. In the following function, `x` and `y` are positional arguments while `z` is a keyword argument. Keyword arguments must follow the positional arguments."
   ]
  },
  {
   "cell_type": "markdown",
   "metadata": {},
   "source": [
    "**Example 2**"
   ]
  },
  {
   "cell_type": "code",
   "execution_count": 28,
   "metadata": {
    "scrolled": true
   },
   "outputs": [],
   "source": [
    "def my_function(x, y, z = 1.5):\n",
    "    if z > 1:\n",
    "        return z * (x + y)\n",
    "    else:\n",
    "        return z/(x+y)"
   ]
  },
  {
   "cell_type": "markdown",
   "metadata": {},
   "source": [
    "So, the above function can be called in many ways:"
   ]
  },
  {
   "cell_type": "code",
   "execution_count": 29,
   "metadata": {},
   "outputs": [],
   "source": [
    "result = my_function(5, 6, z = 0.7)"
   ]
  },
  {
   "cell_type": "code",
   "execution_count": 30,
   "metadata": {},
   "outputs": [
    {
     "data": {
      "text/plain": [
       "0.06363636363636363"
      ]
     },
     "execution_count": 30,
     "metadata": {},
     "output_type": "execute_result"
    }
   ],
   "source": [
    "my_function(5, 6, 0.7)"
   ]
  },
  {
   "cell_type": "code",
   "execution_count": 31,
   "metadata": {
    "scrolled": true
   },
   "outputs": [
    {
     "data": {
      "text/plain": [
       "16.5"
      ]
     },
     "execution_count": 31,
     "metadata": {},
     "output_type": "execute_result"
    }
   ],
   "source": [
    "my_function(5,6)"
   ]
  },
  {
   "cell_type": "markdown",
   "metadata": {},
   "source": [
    "## Namespaces, Scope, and Local Functions\n",
    "Functions can access variables in two different scopes: *global* and *local*. <br><br>\n",
    "Variables that are assigned inside a called function exist in that function's *local scope*.<br>\n",
    "A local scope is created when a function is called.The local scope is destroyed when the function returns.<br><br>\n",
    "Variables that are assigned outside all functions exist in the *global scope*.<br> There is only one global scope and it is created when your program begins. The global scope is destroyed when the program terminates. \n",
    "\n",
    " - code in the global scope cannot use local variables\n",
    " - a local scope can access global variables\n",
    " - code in a particular function's local scope cannot use variables in any other local scopes\n",
    " - you can use the same name for variables if they are defined in different scopes"
   ]
  },
  {
   "cell_type": "code",
   "execution_count": 34,
   "metadata": {
    "scrolled": true
   },
   "outputs": [],
   "source": [
    "# local variables cannot be used in the global scope\n",
    "def set_number():\n",
    "    number = 100"
   ]
  },
  {
   "cell_type": "code",
   "execution_count": 39,
   "metadata": {},
   "outputs": [
    {
     "ename": "NameError",
     "evalue": "name 'number' is not defined",
     "output_type": "error",
     "traceback": [
      "\u001b[1;31m---------------------------------------------------------------------------\u001b[0m",
      "\u001b[1;31mNameError\u001b[0m                                 Traceback (most recent call last)",
      "\u001b[1;32m<ipython-input-39-10ea61ce5386>\u001b[0m in \u001b[0;36m<module>\u001b[1;34m\u001b[0m\n\u001b[0;32m      1\u001b[0m \u001b[0mset_number\u001b[0m\u001b[1;33m(\u001b[0m\u001b[1;33m)\u001b[0m\u001b[1;33m\u001b[0m\u001b[1;33m\u001b[0m\u001b[0m\n\u001b[1;32m----> 2\u001b[1;33m \u001b[0mprint\u001b[0m\u001b[1;33m(\u001b[0m\u001b[0mnumber\u001b[0m\u001b[1;33m)\u001b[0m\u001b[1;33m\u001b[0m\u001b[1;33m\u001b[0m\u001b[0m\n\u001b[0m",
      "\u001b[1;31mNameError\u001b[0m: name 'number' is not defined"
     ]
    }
   ],
   "source": [
    "set_number()\n",
    "print(number)"
   ]
  },
  {
   "cell_type": "code",
   "execution_count": 40,
   "metadata": {
    "scrolled": true
   },
   "outputs": [
    {
     "name": "stdout",
     "output_type": "stream",
     "text": [
      "100\n"
     ]
    }
   ],
   "source": [
    "# local scopes cannot use variables in other local scopes\n",
    "def set_number():\n",
    "    x = 100\n",
    "    set_x_and_y()\n",
    "    print(x)\n",
    "    \n",
    "def set_x_and_y():\n",
    "    x = 200\n",
    "    y = 500\n",
    "    \n",
    "set_number()"
   ]
  },
  {
   "cell_type": "code",
   "execution_count": 41,
   "metadata": {
    "scrolled": true
   },
   "outputs": [
    {
     "name": "stdout",
     "output_type": "stream",
     "text": [
      "35\n"
     ]
    }
   ],
   "source": [
    "# global variables can be read from a local scope\n",
    "def print_num():\n",
    "    print(n)\n",
    "    \n",
    "n = 35\n",
    "print_num()"
   ]
  },
  {
   "cell_type": "markdown",
   "metadata": {},
   "source": [
    "<mark>If you need to modify a global variable from within a function, use the **global** keyword</mark>"
   ]
  },
  {
   "cell_type": "code",
   "execution_count": 42,
   "metadata": {
    "scrolled": true
   },
   "outputs": [
    {
     "name": "stdout",
     "output_type": "stream",
     "text": [
      "600\n"
     ]
    }
   ],
   "source": [
    "def global_test():\n",
    "    global num\n",
    "    num = 600\n",
    "    \n",
    "num = 300\n",
    "global_test()\n",
    "print(num)"
   ]
  },
  {
   "cell_type": "markdown",
   "metadata": {},
   "source": [
    "***\n",
    "### References\n",
    " \n",
    " 1. [Automate the Boring Stuff with Python](https://automatetheboringstuff.com/) by Al Sweigart.\n",
    " 2. Think Python 2<sup>nd</sup> edition ---[PDF](http://greenteapress.com/thinkpython2/thinkpython2.pdf) book\n",
    " 3. Python for Data Analysis 2<sup>nd</sup> edition, Wes McKinney\n",
    " 5. Starting out with Python, Tony Gaddis, 4<sup>th</sup> edition, Pearson"
   ]
  }
 ],
 "metadata": {
  "celltoolbar": "Raw Cell Format",
  "kernelspec": {
   "display_name": "Python 3",
   "language": "python",
   "name": "python3"
  },
  "language_info": {
   "codemirror_mode": {
    "name": "ipython",
    "version": 3
   },
   "file_extension": ".py",
   "mimetype": "text/x-python",
   "name": "python",
   "nbconvert_exporter": "python",
   "pygments_lexer": "ipython3",
   "version": "3.8.5"
  }
 },
 "nbformat": 4,
 "nbformat_minor": 2
}
