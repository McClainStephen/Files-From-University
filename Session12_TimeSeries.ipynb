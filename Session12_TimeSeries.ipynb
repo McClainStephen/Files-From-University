{
 "cells": [
  {
   "cell_type": "markdown",
   "metadata": {},
   "source": [
    "\n",
    "# BMIS-2542: Data Programming Essentials with Python \n",
    "##### Katz Graduate School of Business, Spring 2021\n",
    "\n",
    "\n",
    "## Session 12: Time Series/Date Functionality\n"
   ]
  },
  {
   "cell_type": "markdown",
   "metadata": {},
   "source": [
    "### Dates and Times in Python"
   ]
  },
  {
   "cell_type": "code",
   "execution_count": 1,
   "metadata": {},
   "outputs": [],
   "source": [
    "from datetime import datetime"
   ]
  },
  {
   "cell_type": "code",
   "execution_count": 2,
   "metadata": {},
   "outputs": [
    {
     "data": {
      "text/plain": [
       "datetime.datetime(2021, 4, 13, 16, 22, 55, 738141)"
      ]
     },
     "execution_count": 2,
     "metadata": {},
     "output_type": "execute_result"
    }
   ],
   "source": [
    "now = datetime.now()\n",
    "now"
   ]
  },
  {
   "cell_type": "code",
   "execution_count": 3,
   "metadata": {},
   "outputs": [
    {
     "data": {
      "text/plain": [
       "datetime.datetime"
      ]
     },
     "execution_count": 3,
     "metadata": {},
     "output_type": "execute_result"
    }
   ],
   "source": [
    "type(now)"
   ]
  },
  {
   "cell_type": "code",
   "execution_count": 4,
   "metadata": {
    "scrolled": true
   },
   "outputs": [
    {
     "data": {
      "text/plain": [
       "(2021, 4, 13, 16, 22, 55, 738141)"
      ]
     },
     "execution_count": 4,
     "metadata": {},
     "output_type": "execute_result"
    }
   ],
   "source": [
    "now.year, now.month, now.day, now.hour, now.minute, now.second, now.microsecond"
   ]
  },
  {
   "cell_type": "code",
   "execution_count": 5,
   "metadata": {},
   "outputs": [
    {
     "name": "stdout",
     "output_type": "stream",
     "text": [
      "Year: 2021\n",
      "Month: 10\n",
      "Day: 29\n",
      "Hour: 20\n",
      "Minute: 15\n",
      "Second: 45\n"
     ]
    }
   ],
   "source": [
    "# you can create a new datetime object by setting the datetime parameters\n",
    "dtObj = datetime(2021, 10, 29, 20, 15, 45)\n",
    "print('Year:', dtObj.year)\n",
    "print('Month:', dtObj.month)\n",
    "print('Day:', dtObj.day)\n",
    "print('Hour:', dtObj.hour)\n",
    "print('Minute:', dtObj.minute)\n",
    "print('Second:', dtObj.second)"
   ]
  },
  {
   "cell_type": "markdown",
   "metadata": {},
   "source": [
    "`datetime` stores both the date and time down to the microsecond. `timedelta` represents the temporal difference between two `datetime` objects.<br>\n",
    "Only days, seconds, microseconds, milliseconds, minutes, hours, and weeks are included as parameters.\n",
    "Read the documentation [here](https://docs.python.org/3/library/datetime.html#timedelta-objects)."
   ]
  },
  {
   "cell_type": "code",
   "execution_count": 6,
   "metadata": {},
   "outputs": [
    {
     "data": {
      "text/plain": [
       "datetime.timedelta(days=364, seconds=55800)"
      ]
     },
     "execution_count": 6,
     "metadata": {},
     "output_type": "execute_result"
    }
   ],
   "source": [
    "delta = datetime(2021, 10, 29) - datetime(2020, 10, 29, 8, 30)\n",
    "delta"
   ]
  },
  {
   "cell_type": "code",
   "execution_count": 7,
   "metadata": {
    "scrolled": true
   },
   "outputs": [
    {
     "data": {
      "text/plain": [
       "(364, 55800)"
      ]
     },
     "execution_count": 7,
     "metadata": {},
     "output_type": "execute_result"
    }
   ],
   "source": [
    "delta.days, delta.seconds"
   ]
  },
  {
   "cell_type": "code",
   "execution_count": 8,
   "metadata": {},
   "outputs": [
    {
     "data": {
      "text/plain": [
       "31505400.0"
      ]
     },
     "execution_count": 8,
     "metadata": {},
     "output_type": "execute_result"
    }
   ],
   "source": [
    "delta.total_seconds()"
   ]
  },
  {
   "cell_type": "markdown",
   "metadata": {},
   "source": [
    "You can add or substract a `timedelta` to a `datetime` object to obtain a new shifted object."
   ]
  },
  {
   "cell_type": "code",
   "execution_count": 9,
   "metadata": {
    "scrolled": true
   },
   "outputs": [
    {
     "name": "stdout",
     "output_type": "stream",
     "text": [
      "Today: 2021-04-13 16:22:55.851256\n",
      "One Day: 1 day, 0:00:00\n",
      "Yesterday: 2021-04-12 16:22:55.851256\n",
      "Tomorrow : 2021-04-14 16:22:55.851256\n",
      "Tomorrow - Yesterday: 2 days, 0:00:00\n",
      "Yesterday - Tomorrow: -2 days, 0:00:00\n"
     ]
    }
   ],
   "source": [
    "from datetime import timedelta\n",
    "\n",
    "today = datetime.today()\n",
    "print('Today:', today)\n",
    "\n",
    "one_day = timedelta(days=1)\n",
    "print('One Day:', one_day)\n",
    "\n",
    "yesterday = today - one_day\n",
    "print('Yesterday:', yesterday)\n",
    "\n",
    "tomorrow = today + one_day\n",
    "print('Tomorrow :', tomorrow)\n",
    "\n",
    "print('Tomorrow - Yesterday:', tomorrow - yesterday)\n",
    "print('Yesterday - Tomorrow:', yesterday - tomorrow)"
   ]
  },
  {
   "cell_type": "code",
   "execution_count": 10,
   "metadata": {},
   "outputs": [
    {
     "data": {
      "text/plain": [
       "datetime.timedelta"
      ]
     },
     "execution_count": 10,
     "metadata": {},
     "output_type": "execute_result"
    }
   ],
   "source": [
    "type(tomorrow-yesterday)"
   ]
  },
  {
   "cell_type": "markdown",
   "metadata": {},
   "source": [
    "### Converting Datetime Objects to Strings\n",
    "You can format `datetime` objects (as well as Pandas `timestamp` objects), using `str` or `strftime`, passing a format specification."
   ]
  },
  {
   "cell_type": "code",
   "execution_count": 11,
   "metadata": {},
   "outputs": [
    {
     "data": {
      "text/plain": [
       "'2021-10-15 00:00:00'"
      ]
     },
     "execution_count": 11,
     "metadata": {},
     "output_type": "execute_result"
    }
   ],
   "source": [
    "stamp = datetime(2021, 10, 15) # create a datetime object\n",
    "str(stamp)"
   ]
  },
  {
   "cell_type": "code",
   "execution_count": 12,
   "metadata": {
    "scrolled": true
   },
   "outputs": [
    {
     "data": {
      "text/plain": [
       "'2021/10/15'"
      ]
     },
     "execution_count": 12,
     "metadata": {},
     "output_type": "execute_result"
    }
   ],
   "source": [
    "strStamp = stamp.strftime('%Y/%m/%d')\n",
    "strStamp"
   ]
  },
  {
   "cell_type": "code",
   "execution_count": 13,
   "metadata": {},
   "outputs": [
    {
     "data": {
      "text/plain": [
       "'Tue Apr 13 16:22:55 2021'"
      ]
     },
     "execution_count": 13,
     "metadata": {},
     "output_type": "execute_result"
    }
   ],
   "source": [
    "datetime.now().strftime('%c')"
   ]
  },
  {
   "cell_type": "markdown",
   "metadata": {},
   "source": [
    "#### <u><center>Datetime Format Specification</center></u>\n",
    "\n",
    "|<p left>Type</p>|<p left>Description</p>| \n",
    "| :- | :- \n",
    "|<p center>%Y</p>|<p left>Four-digit Year</p>|\n",
    "|<p center>%y</p>|<p left>Two-digit Year</p>|\n",
    "|<p center>%m</p>|<p left>Two-digit Month(01, 12)</p>|\n",
    "|<p center>%b</p>|<p left>Month as locale’s abbreviated name - Jan, Feb..., Dec (en_US)</p>|\n",
    "|<p center>%B</p>|<p left>Month as locale’s full name - January, February,..., December (en_US)</p>|\n",
    "|<p center>%d</p>|<p left>Two-digit Day (01, 31)</p>|\n",
    "|<p center>%H</p>|<p left>Hour(24-Hour Clock- (00, 23))</p>|\n",
    "|<p center>%I</p>|<p left>Hour(12-Hour Clock- (01, 12))</p>|\n",
    "|<p center>%M</p>|<p left>Two-digit Minute(00, 59)</p>|\n",
    "|<p center>%S</p>|<p left>Second(00,61) seconds 60 and 61 account for leap seconds</p>|\n",
    "|<p center>%p</p>|<p left>Locale’s equivalent of either AM or PM</p>|\n",
    "|<p center>%w</p>|<p left>Weekday as Integer(0-Sunday, 6)</p>|\n",
    "|<p center>%a</p>|<p left>Weekday as locale’s abbreviated name (Sun, Mon,..., Sat (en_US))</p>|\n",
    "|<p center>%A</p>|<p left>Weekday as locale’s as full name (Sunday, Monday...,Saturday)</p>|\n",
    "|<p center>%j</p>|<p left>Day of the year as a zero-padded decimal number (001, 002,..., 365)</p>|\n",
    "|<p center>%U</p>|<p left>Week number of the year (00, 53) Sunday is considered the first day of the week, and days before the first Sunday is week 0</p>|\n",
    "|<p center>%W</p>|<p left>Week number of the year (00, 53) Monday is considered the first day of the week, and days before the first Sunday is week 0</p>|\n",
    "|<p center>%z</p>|<p left>UTC time zone offset as +HHMM or -HHMM</p>|\n",
    "|<p center>%F</p>|<p left>Shortcut for %Y-%m-%d(e.g., 2018-10-29</p>|\n",
    "|<p center>%D</p>|<p left>Shortcut for %m/%d/%y(e.g., 10/29/18</p>|\n",
    "|<p center>%c</p>|<p left>Full Date and Time</p>|"
   ]
  },
  {
   "cell_type": "markdown",
   "metadata": {},
   "source": [
    "#### <mark>Exercise</mark>\n",
    "- Format the current date and time to the following format: **10/29/18 14:15:23**\n",
    "- Format the current date and time to the following format: **Monday 29-OCT-2018 2:15:23 PM**"
   ]
  },
  {
   "cell_type": "code",
   "execution_count": 14,
   "metadata": {},
   "outputs": [
    {
     "data": {
      "text/plain": [
       "'04/13/21 16:22:55'"
      ]
     },
     "execution_count": 14,
     "metadata": {},
     "output_type": "execute_result"
    }
   ],
   "source": [
    "datetime.now().strftime('%D %H:%M:%S')"
   ]
  },
  {
   "cell_type": "code",
   "execution_count": 15,
   "metadata": {},
   "outputs": [
    {
     "data": {
      "text/plain": [
       "'Tuesday 13-Apr-2021 04:22:55 PM'"
      ]
     },
     "execution_count": 15,
     "metadata": {},
     "output_type": "execute_result"
    }
   ],
   "source": [
    "datetime.now().strftime('%A %d-%b-%Y %I:%M:%S %p')"
   ]
  },
  {
   "cell_type": "markdown",
   "metadata": {},
   "source": [
    "### Converting Strings to Datetime Objects\n",
    "\n",
    "You can use the same format specifications above to convert strings to `datetime` objects using `datetime.strptime`."
   ]
  },
  {
   "cell_type": "code",
   "execution_count": 16,
   "metadata": {},
   "outputs": [
    {
     "data": {
      "text/plain": [
       "datetime.datetime(2021, 10, 29, 0, 0)"
      ]
     },
     "execution_count": 16,
     "metadata": {},
     "output_type": "execute_result"
    }
   ],
   "source": [
    "dateStr = '2021/10/29'\n",
    "dateObj = datetime.strptime(dateStr, '%Y/%m/%d')\n",
    "dateObj"
   ]
  },
  {
   "cell_type": "code",
   "execution_count": 17,
   "metadata": {},
   "outputs": [
    {
     "data": {
      "text/plain": [
       "datetime.datetime(2021, 7, 6, 0, 0)"
      ]
     },
     "execution_count": 17,
     "metadata": {},
     "output_type": "execute_result"
    }
   ],
   "source": [
    "dateStr2 = '7/6/2021'\n",
    "datetime.strptime(dateStr2, '%m/%d/%Y')"
   ]
  },
  {
   "cell_type": "markdown",
   "metadata": {},
   "source": [
    "### Using Pandas to Handle Datetime\n",
    "\n",
    "The `to_datetime` method in Pandas can be used to parse many different kinds of date representations.<br>\n",
    "The basic reprsentation of datetime in Pandas is a `Timestamp`. Read more about Pandas date functionality [here](https://pandas.pydata.org/pandas-docs/stable/user_guide/timeseries.html)."
   ]
  },
  {
   "cell_type": "code",
   "execution_count": 18,
   "metadata": {},
   "outputs": [],
   "source": [
    "import pandas as pd\n",
    "import numpy as np"
   ]
  },
  {
   "cell_type": "code",
   "execution_count": 19,
   "metadata": {},
   "outputs": [
    {
     "data": {
      "text/plain": [
       "Timestamp('2021-03-02 10:15:00')"
      ]
     },
     "execution_count": 19,
     "metadata": {},
     "output_type": "execute_result"
    }
   ],
   "source": [
    "ts = pd.Timestamp('3/2/2021 10:15')\n",
    "ts"
   ]
  },
  {
   "cell_type": "code",
   "execution_count": 20,
   "metadata": {
    "scrolled": true
   },
   "outputs": [
    {
     "data": {
      "text/plain": [
       "Timestamp('2021-02-03 08:15:32')"
      ]
     },
     "execution_count": 20,
     "metadata": {},
     "output_type": "execute_result"
    }
   ],
   "source": [
    "ddf = pd.to_datetime('3/2/2021 8:15:32', dayfirst=True) # February 3, 2021\n",
    "ddf"
   ]
  },
  {
   "cell_type": "code",
   "execution_count": 21,
   "metadata": {},
   "outputs": [
    {
     "name": "stdout",
     "output_type": "stream",
     "text": [
      "year: 2021 month: 2 day: 3\n"
     ]
    }
   ],
   "source": [
    "print('year:',ddf.year, 'month:', ddf.month, 'day:', ddf.day)"
   ]
  },
  {
   "cell_type": "code",
   "execution_count": 22,
   "metadata": {},
   "outputs": [
    {
     "name": "stdout",
     "output_type": "stream",
     "text": [
      "year: 2021 month: 3 day: 2\n"
     ]
    }
   ],
   "source": [
    "d = pd.to_datetime('21/3/2 8:15:32 AM', yearfirst= True)\n",
    "print('year:',d.year, 'month:', d.month, 'day:', d.day)"
   ]
  },
  {
   "cell_type": "code",
   "execution_count": 23,
   "metadata": {},
   "outputs": [
    {
     "name": "stdout",
     "output_type": "stream",
     "text": [
      "year: 2021 month: 2 day: 3\n"
     ]
    }
   ],
   "source": [
    "d = pd.to_datetime('21/3/2 8:15:32 AM', yearfirst= True, dayfirst=True)\n",
    "print('year:',d.year, 'month:', d.month, 'day:', d.day)"
   ]
  },
  {
   "cell_type": "code",
   "execution_count": 24,
   "metadata": {},
   "outputs": [
    {
     "name": "stdout",
     "output_type": "stream",
     "text": [
      "Shifted Date: 2021-08-20 11:15:00\n"
     ]
    }
   ],
   "source": [
    "# date offsets in Pandas\n",
    "from pandas.tseries.offsets import *\n",
    "\n",
    "myDate = datetime(2021, 7, 15, 9, 15)\n",
    "shifted = myDate + DateOffset(months=1, days=5, hours=2) \n",
    "print('Shifted Date:', shifted)"
   ]
  },
  {
   "cell_type": "code",
   "execution_count": 25,
   "metadata": {},
   "outputs": [
    {
     "data": {
      "text/plain": [
       "Timestamp('2021-04-16 16:22:56.676370')"
      ]
     },
     "execution_count": 25,
     "metadata": {},
     "output_type": "execute_result"
    }
   ],
   "source": [
    "datetime.now() + 3 * Day()"
   ]
  },
  {
   "cell_type": "markdown",
   "metadata": {},
   "source": [
    "The basic time series object in Pandas is a `Series` indexed by timestamps."
   ]
  },
  {
   "cell_type": "code",
   "execution_count": 26,
   "metadata": {},
   "outputs": [
    {
     "data": {
      "text/plain": [
       "2021-10-01    1.035687\n",
       "2021-10-02   -0.326204\n",
       "2021-10-03   -0.806830\n",
       "2021-10-04   -0.834590\n",
       "2021-10-05    0.344713\n",
       "dtype: float64"
      ]
     },
     "execution_count": 26,
     "metadata": {},
     "output_type": "execute_result"
    }
   ],
   "source": [
    "dates = [datetime(2021,10,1), datetime(2021,10,2), datetime(2021,10,3), datetime(2021,10,4), datetime(2021,10,5)]\n",
    "timeSeries = pd.Series(np.random.randn(5), index = dates)\n",
    "timeSeries"
   ]
  },
  {
   "cell_type": "code",
   "execution_count": 27,
   "metadata": {},
   "outputs": [
    {
     "data": {
      "text/plain": [
       "DatetimeIndex(['2021-10-01', '2021-10-02', '2021-10-03', '2021-10-04',\n",
       "               '2021-10-05'],\n",
       "              dtype='datetime64[ns]', freq=None)"
      ]
     },
     "execution_count": 27,
     "metadata": {},
     "output_type": "execute_result"
    }
   ],
   "source": [
    "timeSeries.index"
   ]
  },
  {
   "cell_type": "code",
   "execution_count": 28,
   "metadata": {},
   "outputs": [
    {
     "data": {
      "text/plain": [
       "2021-10-02   -0.326204\n",
       "2021-10-03   -0.806830\n",
       "2021-10-04   -0.834590\n",
       "dtype: float64"
      ]
     },
     "execution_count": 28,
     "metadata": {},
     "output_type": "execute_result"
    }
   ],
   "source": [
    "timeSeries[1:4]"
   ]
  },
  {
   "cell_type": "code",
   "execution_count": 29,
   "metadata": {},
   "outputs": [
    {
     "data": {
      "text/plain": [
       "Timestamp('2021-10-01 00:00:00')"
      ]
     },
     "execution_count": 29,
     "metadata": {},
     "output_type": "execute_result"
    }
   ],
   "source": [
    "timeStampAtZero = timeSeries.index[0]\n",
    "timeStampAtZero"
   ]
  },
  {
   "cell_type": "markdown",
   "metadata": {},
   "source": [
    "`Timestamp` objects can be substituted anywhere where `datetime` objects are used."
   ]
  },
  {
   "cell_type": "code",
   "execution_count": 30,
   "metadata": {},
   "outputs": [
    {
     "data": {
      "text/plain": [
       "Timedelta('1 days 00:00:00')"
      ]
     },
     "execution_count": 30,
     "metadata": {},
     "output_type": "execute_result"
    }
   ],
   "source": [
    "diff = timeStampAtZero - datetime(2021,9,30)\n",
    "diff"
   ]
  },
  {
   "cell_type": "markdown",
   "metadata": {},
   "source": [
    "### Creating Date Ranges\n",
    "Read the documentation [here](https://pandas.pydata.org/pandas-docs/stable/generated/pandas.date_range.html)."
   ]
  },
  {
   "cell_type": "code",
   "execution_count": 31,
   "metadata": {},
   "outputs": [
    {
     "data": {
      "text/plain": [
       "DatetimeIndex(['2021-10-01', '2021-10-02', '2021-10-03', '2021-10-04',\n",
       "               '2021-10-05', '2021-10-06', '2021-10-07', '2021-10-08',\n",
       "               '2021-10-09', '2021-10-10', '2021-10-11', '2021-10-12',\n",
       "               '2021-10-13', '2021-10-14', '2021-10-15', '2021-10-16',\n",
       "               '2021-10-17', '2021-10-18', '2021-10-19', '2021-10-20',\n",
       "               '2021-10-21', '2021-10-22', '2021-10-23', '2021-10-24',\n",
       "               '2021-10-25', '2021-10-26', '2021-10-27', '2021-10-28',\n",
       "               '2021-10-29', '2021-10-30', '2021-10-31'],\n",
       "              dtype='datetime64[ns]', freq='D')"
      ]
     },
     "execution_count": 31,
     "metadata": {},
     "output_type": "execute_result"
    }
   ],
   "source": [
    "dtRange = pd.date_range('10/1/2021', '10/31/2021')\n",
    "dtRange"
   ]
  },
  {
   "cell_type": "markdown",
   "metadata": {},
   "source": [
    "By default, `date_range` generates daily timestamps. If you pass only a start date or an end date, you need to pass a number of periods to generate.<br>\n",
    "Find the time series frequency aliases [here](https://pandas.pydata.org/pandas-docs/stable/user_guide/timeseries.html#timeseries-offset-aliases)."
   ]
  },
  {
   "cell_type": "code",
   "execution_count": 32,
   "metadata": {},
   "outputs": [
    {
     "data": {
      "text/plain": [
       "DatetimeIndex(['2021-10-01', '2021-10-02', '2021-10-03', '2021-10-04',\n",
       "               '2021-10-05', '2021-10-06', '2021-10-07', '2021-10-08',\n",
       "               '2021-10-09', '2021-10-10', '2021-10-11', '2021-10-12',\n",
       "               '2021-10-13', '2021-10-14', '2021-10-15', '2021-10-16',\n",
       "               '2021-10-17', '2021-10-18', '2021-10-19', '2021-10-20',\n",
       "               '2021-10-21', '2021-10-22', '2021-10-23', '2021-10-24',\n",
       "               '2021-10-25', '2021-10-26', '2021-10-27', '2021-10-28',\n",
       "               '2021-10-29', '2021-10-30', '2021-10-31'],\n",
       "              dtype='datetime64[ns]', freq='D')"
      ]
     },
     "execution_count": 32,
     "metadata": {},
     "output_type": "execute_result"
    }
   ],
   "source": [
    "dateRange = pd.date_range(start='2021/10/1', periods = 31, freq = 'D')\n",
    "dateRange"
   ]
  },
  {
   "cell_type": "code",
   "execution_count": 33,
   "metadata": {},
   "outputs": [
    {
     "data": {
      "text/plain": [
       "DatetimeIndex(['2021-10-01', '2021-10-02', '2021-10-03', '2021-10-04',\n",
       "               '2021-10-05', '2021-10-06', '2021-10-07', '2021-10-08',\n",
       "               '2021-10-09', '2021-10-10', '2021-10-11', '2021-10-12',\n",
       "               '2021-10-13', '2021-10-14', '2021-10-15', '2021-10-16',\n",
       "               '2021-10-17', '2021-10-18', '2021-10-19', '2021-10-20',\n",
       "               '2021-10-21', '2021-10-22', '2021-10-23', '2021-10-24',\n",
       "               '2021-10-25', '2021-10-26', '2021-10-27', '2021-10-28',\n",
       "               '2021-10-29', '2021-10-30', '2021-10-31'],\n",
       "              dtype='datetime64[ns]', freq='D')"
      ]
     },
     "execution_count": 33,
     "metadata": {},
     "output_type": "execute_result"
    }
   ],
   "source": [
    "dateRange = pd.date_range(end='2021/10/31', periods = 31, freq = 'D')\n",
    "dateRange"
   ]
  },
  {
   "cell_type": "code",
   "execution_count": 34,
   "metadata": {
    "scrolled": true
   },
   "outputs": [
    {
     "data": {
      "text/plain": [
       "DatetimeIndex(['2021-10-01 00:00:00', '2021-10-01 04:00:00',\n",
       "               '2021-10-01 08:00:00', '2021-10-01 12:00:00',\n",
       "               '2021-10-01 16:00:00', '2021-10-01 20:00:00',\n",
       "               '2021-10-02 00:00:00', '2021-10-02 04:00:00',\n",
       "               '2021-10-02 08:00:00', '2021-10-02 12:00:00',\n",
       "               '2021-10-02 16:00:00', '2021-10-02 20:00:00',\n",
       "               '2021-10-03 00:00:00', '2021-10-03 04:00:00',\n",
       "               '2021-10-03 08:00:00', '2021-10-03 12:00:00',\n",
       "               '2021-10-03 16:00:00', '2021-10-03 20:00:00'],\n",
       "              dtype='datetime64[ns]', freq='4H')"
      ]
     },
     "execution_count": 34,
     "metadata": {},
     "output_type": "execute_result"
    }
   ],
   "source": [
    "hourOffset = pd.date_range('2021/10/1','2021/10/3 23:59', freq = '4H') # offset 4 hours\n",
    "hourOffset"
   ]
  },
  {
   "cell_type": "code",
   "execution_count": 35,
   "metadata": {
    "scrolled": true
   },
   "outputs": [
    {
     "data": {
      "text/plain": [
       "DatetimeIndex(['2021-10-01 00:00:00', '2021-10-01 01:30:00',\n",
       "               '2021-10-01 03:00:00', '2021-10-01 04:30:00',\n",
       "               '2021-10-01 06:00:00', '2021-10-01 07:30:00',\n",
       "               '2021-10-01 09:00:00', '2021-10-01 10:30:00',\n",
       "               '2021-10-01 12:00:00', '2021-10-01 13:30:00'],\n",
       "              dtype='datetime64[ns]', freq='90T')"
      ]
     },
     "execution_count": 35,
     "metadata": {},
     "output_type": "execute_result"
    }
   ],
   "source": [
    "timeOffset = pd.date_range('2021/10/1', periods=10, freq = '1h30min') # offset 1 hour 30 minutes\n",
    "timeOffset"
   ]
  },
  {
   "cell_type": "code",
   "execution_count": 36,
   "metadata": {
    "scrolled": true
   },
   "outputs": [
    {
     "data": {
      "text/plain": [
       "[Timestamp('2021-10-15 00:00:00', freq='WOM-3FRI'),\n",
       " Timestamp('2021-11-19 00:00:00', freq='WOM-3FRI'),\n",
       " Timestamp('2021-12-17 00:00:00', freq='WOM-3FRI'),\n",
       " Timestamp('2022-01-21 00:00:00', freq='WOM-3FRI'),\n",
       " Timestamp('2022-02-18 00:00:00', freq='WOM-3FRI'),\n",
       " Timestamp('2022-03-18 00:00:00', freq='WOM-3FRI'),\n",
       " Timestamp('2022-04-15 00:00:00', freq='WOM-3FRI'),\n",
       " Timestamp('2022-05-20 00:00:00', freq='WOM-3FRI'),\n",
       " Timestamp('2022-06-17 00:00:00', freq='WOM-3FRI'),\n",
       " Timestamp('2022-07-15 00:00:00', freq='WOM-3FRI')]"
      ]
     },
     "execution_count": 36,
     "metadata": {},
     "output_type": "execute_result"
    }
   ],
   "source": [
    "wom = pd.date_range('2021/10/1', periods=10, freq = 'WOM-3FRI')# Weak of Month (WOM) freq class: third Friday of each month\n",
    "list(wom)"
   ]
  },
  {
   "cell_type": "markdown",
   "metadata": {},
   "source": [
    "#### <mark>Exercise</mark>\n",
    "Create a pandas date range that lists the first five business days, starting with 10/11/2021."
   ]
  },
  {
   "cell_type": "code",
   "execution_count": null,
   "metadata": {},
   "outputs": [],
   "source": []
  },
  {
   "cell_type": "markdown",
   "metadata": {},
   "source": [
    "### Indexing, Selection, and Subsetting"
   ]
  },
  {
   "cell_type": "code",
   "execution_count": 37,
   "metadata": {},
   "outputs": [
    {
     "data": {
      "text/plain": [
       "2021-10-01    1.035687\n",
       "2021-10-02   -0.326204\n",
       "2021-10-03   -0.806830\n",
       "2021-10-04   -0.834590\n",
       "2021-10-05    0.344713\n",
       "dtype: float64"
      ]
     },
     "execution_count": 37,
     "metadata": {},
     "output_type": "execute_result"
    }
   ],
   "source": [
    "timeSeries"
   ]
  },
  {
   "cell_type": "code",
   "execution_count": 38,
   "metadata": {},
   "outputs": [
    {
     "data": {
      "text/plain": [
       "-0.8068295569112776"
      ]
     },
     "execution_count": 38,
     "metadata": {},
     "output_type": "execute_result"
    }
   ],
   "source": [
    "stamp = timeSeries.index[2]\n",
    "timeSeries[stamp]"
   ]
  },
  {
   "cell_type": "code",
   "execution_count": 39,
   "metadata": {
    "scrolled": true
   },
   "outputs": [
    {
     "data": {
      "text/plain": [
       "1.0356873603132044"
      ]
     },
     "execution_count": 39,
     "metadata": {},
     "output_type": "execute_result"
    }
   ],
   "source": [
    "# strings that can be interpreted as a date can also be passed \n",
    "timeSeries['10/1/2021']"
   ]
  },
  {
   "cell_type": "code",
   "execution_count": 40,
   "metadata": {},
   "outputs": [
    {
     "data": {
      "text/plain": [
       "2000-01-01    0.364828\n",
       "2000-01-02   -0.649125\n",
       "2000-01-03   -0.967711\n",
       "2000-01-04    0.339074\n",
       "2000-01-05   -0.999000\n",
       "                ...   \n",
       "2002-09-22    0.786321\n",
       "2002-09-23   -2.206360\n",
       "2002-09-24    0.754466\n",
       "2002-09-25   -0.039906\n",
       "2002-09-26    1.284039\n",
       "Freq: D, Length: 1000, dtype: float64"
      ]
     },
     "execution_count": 40,
     "metadata": {},
     "output_type": "execute_result"
    }
   ],
   "source": [
    "# For longer time series, a year or only a year and month can be passed to esily select slices of data\n",
    "longTimeSeries = pd.Series(np.random.randn(1000), index = pd.date_range('1/1/2000', periods=1000))\n",
    "longTimeSeries"
   ]
  },
  {
   "cell_type": "code",
   "execution_count": 41,
   "metadata": {},
   "outputs": [
    {
     "data": {
      "text/plain": [
       "2001-01-01   -0.597690\n",
       "2001-01-02    0.647959\n",
       "2001-01-03   -0.210529\n",
       "2001-01-04    0.080588\n",
       "2001-01-05   -0.084076\n",
       "                ...   \n",
       "2001-12-27    0.097605\n",
       "2001-12-28    0.649055\n",
       "2001-12-29    0.007797\n",
       "2001-12-30    2.334066\n",
       "2001-12-31   -0.237285\n",
       "Freq: D, Length: 365, dtype: float64"
      ]
     },
     "execution_count": 41,
     "metadata": {},
     "output_type": "execute_result"
    }
   ],
   "source": [
    "longTimeSeries['2001']"
   ]
  },
  {
   "cell_type": "code",
   "execution_count": 42,
   "metadata": {},
   "outputs": [
    {
     "data": {
      "text/plain": [
       "2001-05-01   -0.550355\n",
       "2001-05-02    1.264741\n",
       "2001-05-03   -0.822532\n",
       "2001-05-04   -0.025806\n",
       "2001-05-05   -1.353125\n",
       "2001-05-06    0.525954\n",
       "2001-05-07   -0.403505\n",
       "2001-05-08   -0.468145\n",
       "2001-05-09   -0.917277\n",
       "2001-05-10    0.486866\n",
       "2001-05-11   -1.304256\n",
       "2001-05-12    0.693405\n",
       "2001-05-13    0.991960\n",
       "2001-05-14    1.244270\n",
       "2001-05-15   -0.177700\n",
       "2001-05-16    0.849836\n",
       "2001-05-17    0.811466\n",
       "2001-05-18    0.976004\n",
       "2001-05-19   -0.349553\n",
       "2001-05-20    0.438851\n",
       "2001-05-21    0.062159\n",
       "2001-05-22   -0.897194\n",
       "2001-05-23    0.589350\n",
       "2001-05-24   -0.892175\n",
       "2001-05-25   -0.192985\n",
       "2001-05-26    1.691870\n",
       "2001-05-27    0.612002\n",
       "2001-05-28   -1.408061\n",
       "2001-05-29    0.585652\n",
       "2001-05-30    0.419790\n",
       "2001-05-31   -0.958926\n",
       "Freq: D, dtype: float64"
      ]
     },
     "execution_count": 42,
     "metadata": {},
     "output_type": "execute_result"
    }
   ],
   "source": [
    "longTimeSeries['2001/05']"
   ]
  },
  {
   "cell_type": "code",
   "execution_count": 43,
   "metadata": {},
   "outputs": [
    {
     "data": {
      "text/plain": [
       "2002-09-15   -0.489834\n",
       "2002-09-16    0.859476\n",
       "2002-09-17   -0.117183\n",
       "2002-09-18   -0.525697\n",
       "2002-09-19    0.267902\n",
       "2002-09-20   -0.002168\n",
       "2002-09-21    0.142848\n",
       "2002-09-22    0.786321\n",
       "2002-09-23   -2.206360\n",
       "2002-09-24    0.754466\n",
       "2002-09-25   -0.039906\n",
       "2002-09-26    1.284039\n",
       "Freq: D, dtype: float64"
      ]
     },
     "execution_count": 43,
     "metadata": {},
     "output_type": "execute_result"
    }
   ],
   "source": [
    "longTimeSeries[datetime(2002,9,15):]"
   ]
  },
  {
   "cell_type": "code",
   "execution_count": 44,
   "metadata": {},
   "outputs": [
    {
     "data": {
      "text/plain": [
       "2002-09-01    0.918337\n",
       "2002-09-02    1.276270\n",
       "2002-09-03    0.459975\n",
       "2002-09-04    1.472905\n",
       "2002-09-05    0.188459\n",
       "2002-09-06    0.188044\n",
       "2002-09-07   -0.137928\n",
       "2002-09-08    0.623167\n",
       "2002-09-09   -0.504311\n",
       "2002-09-10   -0.381207\n",
       "2002-09-11   -1.838875\n",
       "2002-09-12   -1.156874\n",
       "2002-09-13    0.483582\n",
       "2002-09-14   -0.166875\n",
       "2002-09-15   -0.489834\n",
       "2002-09-16    0.859476\n",
       "2002-09-17   -0.117183\n",
       "2002-09-18   -0.525697\n",
       "2002-09-19    0.267902\n",
       "2002-09-20   -0.002168\n",
       "2002-09-21    0.142848\n",
       "2002-09-22    0.786321\n",
       "2002-09-23   -2.206360\n",
       "2002-09-24    0.754466\n",
       "2002-09-25   -0.039906\n",
       "2002-09-26    1.284039\n",
       "Freq: D, dtype: float64"
      ]
     },
     "execution_count": 44,
     "metadata": {},
     "output_type": "execute_result"
    }
   ],
   "source": [
    "longTimeSeries['9/1/2002': '4/25/2005'] # can slice with timestamps not contained ina time series"
   ]
  },
  {
   "cell_type": "code",
   "execution_count": 45,
   "metadata": {},
   "outputs": [
    {
     "data": {
      "text/plain": [
       "2000-01-01    0.364828\n",
       "2000-01-02   -0.649125\n",
       "2000-01-03   -0.967711\n",
       "2000-01-04    0.339074\n",
       "2000-01-05   -0.999000\n",
       "                ...   \n",
       "2000-09-16    0.642074\n",
       "2000-09-17   -0.093663\n",
       "2000-09-18    0.329965\n",
       "2000-09-19   -0.457523\n",
       "2000-09-20    1.432539\n",
       "Freq: D, Length: 264, dtype: float64"
      ]
     },
     "execution_count": 45,
     "metadata": {},
     "output_type": "execute_result"
    }
   ],
   "source": [
    "# Alternative Slicing Method: Truncate all rows after '9/20/2000'\n",
    "longTimeSeries.truncate(after = '9/20/2000')"
   ]
  },
  {
   "cell_type": "code",
   "execution_count": 46,
   "metadata": {},
   "outputs": [
    {
     "data": {
      "text/plain": [
       "2002-09-20   -0.002168\n",
       "2002-09-21    0.142848\n",
       "2002-09-22    0.786321\n",
       "2002-09-23   -2.206360\n",
       "2002-09-24    0.754466\n",
       "2002-09-25   -0.039906\n",
       "2002-09-26    1.284039\n",
       "Freq: D, dtype: float64"
      ]
     },
     "execution_count": 46,
     "metadata": {},
     "output_type": "execute_result"
    }
   ],
   "source": [
    "# Alternative Slicing Method: Truncate all rows before '9/20/2002'\n",
    "longTimeSeries.truncate(before = '9/20/2002')"
   ]
  },
  {
   "cell_type": "code",
   "execution_count": 47,
   "metadata": {},
   "outputs": [
    {
     "data": {
      "text/plain": [
       "1000"
      ]
     },
     "execution_count": 47,
     "metadata": {},
     "output_type": "execute_result"
    }
   ],
   "source": [
    "# Slicing, selection, or truncation does not modify the original series\n",
    "len(longTimeSeries)"
   ]
  },
  {
   "cell_type": "markdown",
   "metadata": {},
   "source": [
    "<mark>All the above holds true for **`DataFrames`** as well.</mark>"
   ]
  },
  {
   "cell_type": "code",
   "execution_count": 48,
   "metadata": {},
   "outputs": [
    {
     "data": {
      "text/plain": [
       "DatetimeIndex(['2021-10-01', '2021-10-02', '2021-10-03', '2021-10-04',\n",
       "               '2021-10-05', '2021-10-06', '2021-10-07', '2021-10-08',\n",
       "               '2021-10-09', '2021-10-10'],\n",
       "              dtype='datetime64[ns]', freq='D')"
      ]
     },
     "execution_count": 48,
     "metadata": {},
     "output_type": "execute_result"
    }
   ],
   "source": [
    "dateRange = pd.date_range('2021/10/1', periods = 10, freq = 'D')\n",
    "dateRange"
   ]
  },
  {
   "cell_type": "code",
   "execution_count": 49,
   "metadata": {},
   "outputs": [
    {
     "data": {
      "text/plain": [
       "array([[ 1.34561224,  0.01652205, -0.53725014, -0.72341627],\n",
       "       [ 0.47672303, -0.8449601 ,  0.89353612,  0.58671335]])"
      ]
     },
     "execution_count": 49,
     "metadata": {},
     "output_type": "execute_result"
    }
   ],
   "source": [
    "np.random.randn(2, 4) # 2 by 4 numpy array"
   ]
  },
  {
   "cell_type": "code",
   "execution_count": 50,
   "metadata": {
    "scrolled": true
   },
   "outputs": [
    {
     "data": {
      "text/html": [
       "<div>\n",
       "<style scoped>\n",
       "    .dataframe tbody tr th:only-of-type {\n",
       "        vertical-align: middle;\n",
       "    }\n",
       "\n",
       "    .dataframe tbody tr th {\n",
       "        vertical-align: top;\n",
       "    }\n",
       "\n",
       "    .dataframe thead th {\n",
       "        text-align: right;\n",
       "    }\n",
       "</style>\n",
       "<table border=\"1\" class=\"dataframe\">\n",
       "  <thead>\n",
       "    <tr style=\"text-align: right;\">\n",
       "      <th></th>\n",
       "      <th>Temperature</th>\n",
       "      <th>Pressure</th>\n",
       "      <th>Humidity</th>\n",
       "      <th>Wind</th>\n",
       "    </tr>\n",
       "  </thead>\n",
       "  <tbody>\n",
       "    <tr>\n",
       "      <th>2021-10-01</th>\n",
       "      <td>-0.486667</td>\n",
       "      <td>-0.235083</td>\n",
       "      <td>-0.702337</td>\n",
       "      <td>0.479306</td>\n",
       "    </tr>\n",
       "    <tr>\n",
       "      <th>2021-10-02</th>\n",
       "      <td>0.713496</td>\n",
       "      <td>0.796711</td>\n",
       "      <td>-0.209316</td>\n",
       "      <td>-0.400832</td>\n",
       "    </tr>\n",
       "    <tr>\n",
       "      <th>2021-10-03</th>\n",
       "      <td>0.380524</td>\n",
       "      <td>0.707934</td>\n",
       "      <td>-0.002814</td>\n",
       "      <td>0.005761</td>\n",
       "    </tr>\n",
       "    <tr>\n",
       "      <th>2021-10-04</th>\n",
       "      <td>0.044418</td>\n",
       "      <td>-0.768945</td>\n",
       "      <td>0.405334</td>\n",
       "      <td>-1.657299</td>\n",
       "    </tr>\n",
       "    <tr>\n",
       "      <th>2021-10-05</th>\n",
       "      <td>-0.416929</td>\n",
       "      <td>0.768559</td>\n",
       "      <td>-0.029983</td>\n",
       "      <td>-0.997698</td>\n",
       "    </tr>\n",
       "    <tr>\n",
       "      <th>2021-10-06</th>\n",
       "      <td>-0.299442</td>\n",
       "      <td>0.744559</td>\n",
       "      <td>0.330766</td>\n",
       "      <td>0.264393</td>\n",
       "    </tr>\n",
       "    <tr>\n",
       "      <th>2021-10-07</th>\n",
       "      <td>-1.103800</td>\n",
       "      <td>-0.200867</td>\n",
       "      <td>-0.898696</td>\n",
       "      <td>0.907302</td>\n",
       "    </tr>\n",
       "    <tr>\n",
       "      <th>2021-10-08</th>\n",
       "      <td>0.122990</td>\n",
       "      <td>0.117450</td>\n",
       "      <td>0.239709</td>\n",
       "      <td>2.172569</td>\n",
       "    </tr>\n",
       "    <tr>\n",
       "      <th>2021-10-09</th>\n",
       "      <td>0.808020</td>\n",
       "      <td>0.349285</td>\n",
       "      <td>-0.115654</td>\n",
       "      <td>-0.265259</td>\n",
       "    </tr>\n",
       "    <tr>\n",
       "      <th>2021-10-10</th>\n",
       "      <td>-0.534579</td>\n",
       "      <td>1.414922</td>\n",
       "      <td>0.586525</td>\n",
       "      <td>1.323948</td>\n",
       "    </tr>\n",
       "  </tbody>\n",
       "</table>\n",
       "</div>"
      ],
      "text/plain": [
       "            Temperature  Pressure  Humidity      Wind\n",
       "2021-10-01    -0.486667 -0.235083 -0.702337  0.479306\n",
       "2021-10-02     0.713496  0.796711 -0.209316 -0.400832\n",
       "2021-10-03     0.380524  0.707934 -0.002814  0.005761\n",
       "2021-10-04     0.044418 -0.768945  0.405334 -1.657299\n",
       "2021-10-05    -0.416929  0.768559 -0.029983 -0.997698\n",
       "2021-10-06    -0.299442  0.744559  0.330766  0.264393\n",
       "2021-10-07    -1.103800 -0.200867 -0.898696  0.907302\n",
       "2021-10-08     0.122990  0.117450  0.239709  2.172569\n",
       "2021-10-09     0.808020  0.349285 -0.115654 -0.265259\n",
       "2021-10-10    -0.534579  1.414922  0.586525  1.323948"
      ]
     },
     "execution_count": 50,
     "metadata": {},
     "output_type": "execute_result"
    }
   ],
   "source": [
    "dates = pd.date_range('10/1/2021', periods=10, freq='D') \n",
    "dfWeather = pd.DataFrame(np.random.randn(10,4), index = dates, columns = ['Temperature', 'Pressure', 'Humidity', 'Wind'])\n",
    "dfWeather"
   ]
  },
  {
   "cell_type": "markdown",
   "metadata": {},
   "source": [
    "#### <mark>Exercise</mark>\n",
    "From `dfWeather`, select the Temperature and Humidity data from '10/3/2021' to '10/8/2021' (inclusive), \n",
    " - using general slicing \n",
    " - using `dfWeather.truncate`\n",
    " - using `dfWeather.loc`"
   ]
  },
  {
   "cell_type": "code",
   "execution_count": 51,
   "metadata": {
    "scrolled": true
   },
   "outputs": [
    {
     "ename": "NameError",
     "evalue": "name 'after' is not defined",
     "output_type": "error",
     "traceback": [
      "\u001b[1;31m---------------------------------------------------------------------------\u001b[0m",
      "\u001b[1;31mNameError\u001b[0m                                 Traceback (most recent call last)",
      "\u001b[1;32m<ipython-input-51-504505f2028d>\u001b[0m in \u001b[0;36m<module>\u001b[1;34m\u001b[0m\n\u001b[1;32m----> 1\u001b[1;33m \u001b[0mdfWeather\u001b[0m\u001b[1;33m.\u001b[0m\u001b[0mtruncate\u001b[0m\u001b[1;33m(\u001b[0m\u001b[0mafter\u001b[0m\u001b[1;33m)\u001b[0m\u001b[1;33m\u001b[0m\u001b[1;33m\u001b[0m\u001b[0m\n\u001b[0m",
      "\u001b[1;31mNameError\u001b[0m: name 'after' is not defined"
     ]
    }
   ],
   "source": []
  },
  {
   "cell_type": "code",
   "execution_count": 54,
   "metadata": {},
   "outputs": [
    {
     "data": {
      "text/html": [
       "<div>\n",
       "<style scoped>\n",
       "    .dataframe tbody tr th:only-of-type {\n",
       "        vertical-align: middle;\n",
       "    }\n",
       "\n",
       "    .dataframe tbody tr th {\n",
       "        vertical-align: top;\n",
       "    }\n",
       "\n",
       "    .dataframe thead th {\n",
       "        text-align: right;\n",
       "    }\n",
       "</style>\n",
       "<table border=\"1\" class=\"dataframe\">\n",
       "  <thead>\n",
       "    <tr style=\"text-align: right;\">\n",
       "      <th></th>\n",
       "      <th>Temperature</th>\n",
       "      <th>Pressure</th>\n",
       "      <th>Humidity</th>\n",
       "      <th>Wind</th>\n",
       "    </tr>\n",
       "  </thead>\n",
       "  <tbody>\n",
       "    <tr>\n",
       "      <th>2021-10-03</th>\n",
       "      <td>0.380524</td>\n",
       "      <td>0.707934</td>\n",
       "      <td>-0.002814</td>\n",
       "      <td>0.005761</td>\n",
       "    </tr>\n",
       "    <tr>\n",
       "      <th>2021-10-04</th>\n",
       "      <td>0.044418</td>\n",
       "      <td>-0.768945</td>\n",
       "      <td>0.405334</td>\n",
       "      <td>-1.657299</td>\n",
       "    </tr>\n",
       "    <tr>\n",
       "      <th>2021-10-05</th>\n",
       "      <td>-0.416929</td>\n",
       "      <td>0.768559</td>\n",
       "      <td>-0.029983</td>\n",
       "      <td>-0.997698</td>\n",
       "    </tr>\n",
       "    <tr>\n",
       "      <th>2021-10-06</th>\n",
       "      <td>-0.299442</td>\n",
       "      <td>0.744559</td>\n",
       "      <td>0.330766</td>\n",
       "      <td>0.264393</td>\n",
       "    </tr>\n",
       "    <tr>\n",
       "      <th>2021-10-07</th>\n",
       "      <td>-1.103800</td>\n",
       "      <td>-0.200867</td>\n",
       "      <td>-0.898696</td>\n",
       "      <td>0.907302</td>\n",
       "    </tr>\n",
       "    <tr>\n",
       "      <th>2021-10-08</th>\n",
       "      <td>0.122990</td>\n",
       "      <td>0.117450</td>\n",
       "      <td>0.239709</td>\n",
       "      <td>2.172569</td>\n",
       "    </tr>\n",
       "  </tbody>\n",
       "</table>\n",
       "</div>"
      ],
      "text/plain": [
       "            Temperature  Pressure  Humidity      Wind\n",
       "2021-10-03     0.380524  0.707934 -0.002814  0.005761\n",
       "2021-10-04     0.044418 -0.768945  0.405334 -1.657299\n",
       "2021-10-05    -0.416929  0.768559 -0.029983 -0.997698\n",
       "2021-10-06    -0.299442  0.744559  0.330766  0.264393\n",
       "2021-10-07    -1.103800 -0.200867 -0.898696  0.907302\n",
       "2021-10-08     0.122990  0.117450  0.239709  2.172569"
      ]
     },
     "execution_count": 54,
     "metadata": {},
     "output_type": "execute_result"
    }
   ],
   "source": [
    "dfWeather.truncate(after = '10/8/2021',before = '10/3/2021',)"
   ]
  },
  {
   "cell_type": "code",
   "execution_count": 55,
   "metadata": {},
   "outputs": [
    {
     "ename": "SyntaxError",
     "evalue": "invalid syntax (<ipython-input-55-3f4d1a80b4e2>, line 1)",
     "output_type": "error",
     "traceback": [
      "\u001b[1;36m  File \u001b[1;32m\"<ipython-input-55-3f4d1a80b4e2>\"\u001b[1;36m, line \u001b[1;32m1\u001b[0m\n\u001b[1;33m    dfWeather.loc('10/3/2021':'10/8/2021')\u001b[0m\n\u001b[1;37m                             ^\u001b[0m\n\u001b[1;31mSyntaxError\u001b[0m\u001b[1;31m:\u001b[0m invalid syntax\n"
     ]
    }
   ],
   "source": [
    "dfWeather.loc('10/3/2021':'10/8/2021')"
   ]
  },
  {
   "cell_type": "markdown",
   "metadata": {},
   "source": [
    "### Shifting/Lagging\n",
    "Sometimes we need to shift or lag the values in a time series back and forward in time.<br>\n",
    "Both `Series` and `DataFrame` have a `shift` method that can perform shifts forward or backword, without modifying the index."
   ]
  },
  {
   "cell_type": "code",
   "execution_count": null,
   "metadata": {
    "scrolled": true
   },
   "outputs": [],
   "source": [
    "tsShiftLag = pd.Series(np.random.randn(4), index = pd.date_range('1/1/2021', periods=4, freq='M'))\n",
    "tsShiftLag"
   ]
  },
  {
   "cell_type": "code",
   "execution_count": null,
   "metadata": {},
   "outputs": [],
   "source": [
    "tsShiftLag.shift(1) #lead"
   ]
  },
  {
   "cell_type": "code",
   "execution_count": null,
   "metadata": {},
   "outputs": [],
   "source": [
    "tsShiftLag.shift(-1) # lag"
   ]
  },
  {
   "cell_type": "markdown",
   "metadata": {},
   "source": [
    "Instead of advancing data and discarding some information, we can advance the timestamps, modifying the index."
   ]
  },
  {
   "cell_type": "code",
   "execution_count": null,
   "metadata": {},
   "outputs": [],
   "source": [
    "tsShiftLag"
   ]
  },
  {
   "cell_type": "code",
   "execution_count": null,
   "metadata": {},
   "outputs": [],
   "source": [
    "tsShiftLag.shift(2, freq='M')"
   ]
  },
  {
   "cell_type": "code",
   "execution_count": null,
   "metadata": {},
   "outputs": [],
   "source": [
    "tsShiftLag.shift(2, freq='D')"
   ]
  },
  {
   "cell_type": "markdown",
   "metadata": {},
   "source": [
    "#### <mark>Exercise</mark>\n",
    "`dfPrice` is a `DataFrame` that contains the Closing Price for a particular stock for the month of January, 2021.\n",
    "\n",
    "- Create the new column **Previous_Close** that displays the closing price of the stock for the previous day\n",
    "- Create the new column **% Change** that displays the percent change in the close price for each day\n",
    "- Display `dfPrice`"
   ]
  },
  {
   "cell_type": "code",
   "execution_count": null,
   "metadata": {},
   "outputs": [],
   "source": [
    "dfPrice = pd.DataFrame(np.random.uniform(low=100, high=300, size= 31), index = pd.date_range('1/1/2018', periods = 31, freq = 'D'), columns = ['Close_Price'])\n",
    "dfPrice"
   ]
  },
  {
   "cell_type": "code",
   "execution_count": null,
   "metadata": {},
   "outputs": [],
   "source": []
  },
  {
   "cell_type": "markdown",
   "metadata": {},
   "source": [
    "### Periods and Period Arithmetic\n",
    "If you want to have both the start time and the end time of a particular time duration in a single object, you can use `Periods`. Periods represent timespans like days, months, quarters, or years.\n",
    "\n",
    "Find the time series **frequency aliases** [here](https://pandas.pydata.org/pandas-docs/stable/timeseries.html#timeseries-offset-aliases)."
   ]
  },
  {
   "cell_type": "code",
   "execution_count": null,
   "metadata": {
    "scrolled": true
   },
   "outputs": [],
   "source": [
    "timeSpan = pd.Period('10/2021', freq = 'M')\n",
    "timeSpan"
   ]
  },
  {
   "cell_type": "code",
   "execution_count": null,
   "metadata": {},
   "outputs": [],
   "source": [
    "timeSpan.start_time, timeSpan.end_time"
   ]
  },
  {
   "cell_type": "code",
   "execution_count": null,
   "metadata": {},
   "outputs": [],
   "source": [
    "periodJanToDec2021 = pd.Period(2021, freq='A-DEC') # full timespan from January 1, 2007, to December 31, 2007.\n",
    "periodJanToDec2021"
   ]
  },
  {
   "cell_type": "code",
   "execution_count": null,
   "metadata": {},
   "outputs": [],
   "source": [
    "periodJanToDec2021.start_time, periodJanToDec2021.end_time"
   ]
  },
  {
   "cell_type": "code",
   "execution_count": null,
   "metadata": {},
   "outputs": [],
   "source": [
    "testTimestamp = pd.Timestamp('10/15/2021')\n",
    "testTimestamp"
   ]
  },
  {
   "cell_type": "markdown",
   "metadata": {},
   "source": [
    "<mark>**Exercise**</mark><br>\n",
    "Write an expression that determines whether the `testTimestamp` falls within the period `timeSpan`."
   ]
  },
  {
   "cell_type": "code",
   "execution_count": null,
   "metadata": {},
   "outputs": [],
   "source": []
  },
  {
   "cell_type": "markdown",
   "metadata": {},
   "source": [
    "Adding and subtracting integers from periods, shifts the period by its own frequency. Arithmetic is not allowed between Periods with different frequency."
   ]
  },
  {
   "cell_type": "code",
   "execution_count": null,
   "metadata": {},
   "outputs": [],
   "source": [
    "periodJanToDec2021"
   ]
  },
  {
   "cell_type": "code",
   "execution_count": null,
   "metadata": {},
   "outputs": [],
   "source": [
    "periodJanToDec2021 + 1"
   ]
  },
  {
   "cell_type": "code",
   "execution_count": null,
   "metadata": {},
   "outputs": [],
   "source": [
    "periodJanToDec2021 - 2"
   ]
  },
  {
   "cell_type": "markdown",
   "metadata": {},
   "source": [
    "Taking the difference of Period instances with the same frequency will return the number of frequency units between them."
   ]
  },
  {
   "cell_type": "code",
   "execution_count": null,
   "metadata": {},
   "outputs": [],
   "source": [
    "pd.Period(2021, freq='A-DEC') - pd.Period(2017, freq='A-DEC')"
   ]
  },
  {
   "cell_type": "code",
   "execution_count": null,
   "metadata": {},
   "outputs": [],
   "source": [
    "periodRange = pd.period_range('1/1/2021', '6/30/2021', freq = 'M')\n",
    "periodRange"
   ]
  },
  {
   "cell_type": "code",
   "execution_count": null,
   "metadata": {},
   "outputs": [],
   "source": [
    "pd.Series(np.random.randn(6), index = periodRange)"
   ]
  },
  {
   "cell_type": "code",
   "execution_count": null,
   "metadata": {},
   "outputs": [],
   "source": [
    "values = ['2019Q3', '2020Q2', '2021Q1']\n",
    "periodIndex = pd.PeriodIndex(values, freq = 'Q-DEC')\n",
    "periodIndex"
   ]
  },
  {
   "cell_type": "code",
   "execution_count": null,
   "metadata": {},
   "outputs": [],
   "source": [
    "pd.Series(np.random.randn(3), index = periodIndex)"
   ]
  },
  {
   "cell_type": "markdown",
   "metadata": {},
   "source": [
    "#### Period Frequency Conversion\n",
    "Periods and `PeriodIndex` objects can be converted to another frequency using the `asfreq` method."
   ]
  },
  {
   "cell_type": "code",
   "execution_count": null,
   "metadata": {},
   "outputs": [],
   "source": [
    "# convert an annual period into a monthly period at the start or end of the year.\n",
    "p = pd.Period('2021', freq='A-DEC')\n",
    "print(p.start_time, p.end_time)\n",
    "p"
   ]
  },
  {
   "cell_type": "code",
   "execution_count": null,
   "metadata": {},
   "outputs": [],
   "source": [
    "convertedP = p.asfreq('M', how = 'end')\n",
    "print(convertedP.start_time, convertedP.end_time)\n",
    "convertedP"
   ]
  },
  {
   "cell_type": "code",
   "execution_count": null,
   "metadata": {},
   "outputs": [],
   "source": [
    "#for a fiscal year ending on a month other than December, the corresponding monthly subperiods are different.\n",
    "p = pd.Period('2021', freq='A-JUN')\n",
    "print(p.start_time, p.end_time)\n",
    "p"
   ]
  },
  {
   "cell_type": "code",
   "execution_count": null,
   "metadata": {},
   "outputs": [],
   "source": [
    "convertedP = p.asfreq('M', how = 'start')\n",
    "print(convertedP.start_time, convertedP.end_time)\n",
    "convertedP"
   ]
  },
  {
   "cell_type": "markdown",
   "metadata": {},
   "source": [
    "#### Quarterly Period Frequencies\n",
    "Pandas supports 12 quarterly frequencies as `Q-JAN` through `Q-DEC`."
   ]
  },
  {
   "cell_type": "code",
   "execution_count": null,
   "metadata": {},
   "outputs": [],
   "source": [
    "p = pd.Period('2021Q4', freq='Q-JAN')\n",
    "p.start_time, p.end_time"
   ]
  },
  {
   "cell_type": "code",
   "execution_count": null,
   "metadata": {},
   "outputs": [],
   "source": [
    "pDaily = p.asfreq('D', how='start')\n",
    "pDaily.start_time, pDaily.end_time"
   ]
  },
  {
   "cell_type": "markdown",
   "metadata": {},
   "source": [
    "#### Converting Timestamps to Periods"
   ]
  },
  {
   "cell_type": "code",
   "execution_count": null,
   "metadata": {},
   "outputs": [],
   "source": [
    "rng = pd.date_range('2021/1/1', periods=3, freq='M')\n",
    "ts = pd.Series(np.random.randn(3), index=rng)\n",
    "ts"
   ]
  },
  {
   "cell_type": "code",
   "execution_count": null,
   "metadata": {},
   "outputs": [],
   "source": [
    "periodTs = ts.to_period()\n",
    "periodTs"
   ]
  },
  {
   "cell_type": "code",
   "execution_count": null,
   "metadata": {},
   "outputs": [],
   "source": [
    "rng = pd.date_range('1/29/2021', periods=6, freq='D')\n",
    "ts2 = pd.Series(np.random.randn(6), index = rng)\n",
    "ts2"
   ]
  },
  {
   "cell_type": "code",
   "execution_count": null,
   "metadata": {},
   "outputs": [],
   "source": [
    "ts2.to_period('M')"
   ]
  },
  {
   "cell_type": "code",
   "execution_count": null,
   "metadata": {},
   "outputs": [],
   "source": [
    "# converting back to timestamps\n",
    "pts = ts2.to_period()\n",
    "pts.to_timestamp()"
   ]
  },
  {
   "cell_type": "markdown",
   "metadata": {},
   "source": [
    "### Resampling and Frequency Conversion\n",
    "Resampling refers to the process of converting a time series from one frequency to another.<br>\n",
    "`resample` is the workhorse function in Pandas for all frequency conversion. `resample()` is a time-based groupby operation."
   ]
  },
  {
   "cell_type": "code",
   "execution_count": null,
   "metadata": {},
   "outputs": [],
   "source": [
    "rng = pd.date_range('1/1/2021', periods = 100, freq='D')\n",
    "ts = pd.Series(np.random.randn(len(rng)), index=rng)\n",
    "ts"
   ]
  },
  {
   "cell_type": "code",
   "execution_count": null,
   "metadata": {},
   "outputs": [],
   "source": [
    "ts.resample('M').mean()"
   ]
  },
  {
   "cell_type": "code",
   "execution_count": null,
   "metadata": {},
   "outputs": [],
   "source": [
    "ts.resample('M', kind = 'period').mean()"
   ]
  },
  {
   "cell_type": "markdown",
   "metadata": {},
   "source": [
    "#### Downsampling\n",
    "Aggregating data to a regular, lower frquency is a common time series task. The desired frequency defines bin edges that are used to slice the time series into pieces to aggregate."
   ]
  },
  {
   "cell_type": "code",
   "execution_count": null,
   "metadata": {},
   "outputs": [],
   "source": [
    "rng = pd.date_range('1/1/2021', periods=12, freq = 'T')\n",
    "ts = pd.Series(np.arange(12), index=rng)\n",
    "ts"
   ]
  },
  {
   "cell_type": "code",
   "execution_count": null,
   "metadata": {},
   "outputs": [],
   "source": [
    "# let's chunck the data to five-minute chunks by taking the sum of each group\n",
    "ts.resample('5min').sum()"
   ]
  },
  {
   "cell_type": "code",
   "execution_count": null,
   "metadata": {},
   "outputs": [],
   "source": [
    "ts.resample('5min', closed = 'right').sum()"
   ]
  }
 ],
 "metadata": {
  "kernelspec": {
   "display_name": "Python 3",
   "language": "python",
   "name": "python3"
  },
  "language_info": {
   "codemirror_mode": {
    "name": "ipython",
    "version": 3
   },
   "file_extension": ".py",
   "mimetype": "text/x-python",
   "name": "python",
   "nbconvert_exporter": "python",
   "pygments_lexer": "ipython3",
   "version": "3.8.5"
  }
 },
 "nbformat": 4,
 "nbformat_minor": 2
}
